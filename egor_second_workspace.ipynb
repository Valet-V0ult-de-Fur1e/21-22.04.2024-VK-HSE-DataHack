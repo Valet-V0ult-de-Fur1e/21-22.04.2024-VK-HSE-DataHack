{
 "cells": [
  {
   "cell_type": "code",
   "execution_count": 2,
   "id": "185d7865-1c85-4e97-bfd0-6eb6345f5361",
   "metadata": {
    "tags": []
   },
   "outputs": [
    {
     "name": "stderr",
     "output_type": "stream",
     "text": [
      "/home/datadisk/jupyter-admin/.local/lib/python3.9/site-packages/torch/cuda/__init__.py:628: UserWarning: Can't initialize NVML\n",
      "  warnings.warn(\"Can't initialize NVML\")\n",
      "/home/datadisk/jupyter-admin/.local/lib/python3.9/site-packages/transformers/utils/generic.py:441: UserWarning: torch.utils._pytree._register_pytree_node is deprecated. Please use torch.utils._pytree.register_pytree_node instead.\n",
      "  _torch_pytree._register_pytree_node(\n",
      "/home/datadisk/jupyter-admin/.local/lib/python3.9/site-packages/transformers/utils/generic.py:309: UserWarning: torch.utils._pytree._register_pytree_node is deprecated. Please use torch.utils._pytree.register_pytree_node instead.\n",
      "  _torch_pytree._register_pytree_node(\n"
     ]
    },
    {
     "ename": "NotImplementedError",
     "evalue": "[E894] The 'noun_chunks' syntax iterator is not implemented for language 'ru'.",
     "output_type": "error",
     "traceback": [
      "\u001b[0;31m---------------------------------------------------------------------------\u001b[0m",
      "\u001b[0;31mNotImplementedError\u001b[0m                       Traceback (most recent call last)",
      "Cell \u001b[0;32mIn[2], line 9\u001b[0m\n\u001b[1;32m      5\u001b[0m text \u001b[38;5;241m=\u001b[39m \u001b[38;5;124m\"\u001b[39m\u001b[38;5;124mСпособ спасти посевы после ледяного дождя он назвал в беседе с aif.ru. По его словам, главный вред, который может причинить ледяной дождь посеянным осенью чесноку, моркови, свекле и другим посадкам — помешать воздухообмену. Если дождь прошел после того, как дачник убрал снег над посадками или если на участке мало снега, то надо побыстрее ликвидировать ледяную корку, образовавшуюся на поверхности, уточнил он. «Делать это надо грубым механическим путем, разбив ее граблями — лучше теми, которыми вы убираете листву на участке. Избавившись от корки и убрав образовавшуюся мешанину подальше, восстановите снежный покров, хорошенько встряхивая снег, чтобы он был сыпучим, а не слежавшимся», — порекомендовал он. Проливать огород горячей водой, продолжил Синьковский, нельзя. Если же ледяной дождь прошел над грядками, находящимися под нормальной толщины снежным покровом, нужно по всей площади грядок сломать образовавшийся наст, посоветовал он. Этот наст, объяснил агроном, нужно разбить на фрагменты и убрать с поверхности, а потом черенком от лопаты пробить отверстия по всей площади грядок. «Ничего, что они быстро заполнятся снегом — должную циркуляцию воздуха вы таким образом все равно обеспечите», — заверил специалист. Ранее Синьковский назвал правила выращивания баклажанов и перцев. Агроном рекомендовал использовать готовые жирные грунты с высоким содержанием органики.\u001b[39m\u001b[38;5;124m\"\u001b[39m\n\u001b[1;32m      7\u001b[0m doc \u001b[38;5;241m=\u001b[39m nlp(text)\n\u001b[0;32m----> 9\u001b[0m noun_phrases \u001b[38;5;241m=\u001b[39m \u001b[38;5;28;43mset\u001b[39;49m\u001b[43m(\u001b[49m\u001b[43mchunk\u001b[49m\u001b[38;5;241;43m.\u001b[39;49m\u001b[43mtext\u001b[49m\u001b[38;5;241;43m.\u001b[39;49m\u001b[43mstrip\u001b[49m\u001b[43m(\u001b[49m\u001b[43m)\u001b[49m\u001b[38;5;241;43m.\u001b[39;49m\u001b[43mlower\u001b[49m\u001b[43m(\u001b[49m\u001b[43m)\u001b[49m\u001b[43m \u001b[49m\u001b[38;5;28;43;01mfor\u001b[39;49;00m\u001b[43m \u001b[49m\u001b[43mchunk\u001b[49m\u001b[43m \u001b[49m\u001b[38;5;129;43;01min\u001b[39;49;00m\u001b[43m \u001b[49m\u001b[43mdoc\u001b[49m\u001b[38;5;241;43m.\u001b[39;49m\u001b[43mnoun_chunks\u001b[49m\u001b[43m)\u001b[49m\n\u001b[1;32m     11\u001b[0m nouns \u001b[38;5;241m=\u001b[39m \u001b[38;5;28mset\u001b[39m()\n\u001b[1;32m     12\u001b[0m \u001b[38;5;28;01mfor\u001b[39;00m token \u001b[38;5;129;01min\u001b[39;00m doc:\n",
      "Cell \u001b[0;32mIn[2], line 9\u001b[0m, in \u001b[0;36m<genexpr>\u001b[0;34m(.0)\u001b[0m\n\u001b[1;32m      5\u001b[0m text \u001b[38;5;241m=\u001b[39m \u001b[38;5;124m\"\u001b[39m\u001b[38;5;124mСпособ спасти посевы после ледяного дождя он назвал в беседе с aif.ru. По его словам, главный вред, который может причинить ледяной дождь посеянным осенью чесноку, моркови, свекле и другим посадкам — помешать воздухообмену. Если дождь прошел после того, как дачник убрал снег над посадками или если на участке мало снега, то надо побыстрее ликвидировать ледяную корку, образовавшуюся на поверхности, уточнил он. «Делать это надо грубым механическим путем, разбив ее граблями — лучше теми, которыми вы убираете листву на участке. Избавившись от корки и убрав образовавшуюся мешанину подальше, восстановите снежный покров, хорошенько встряхивая снег, чтобы он был сыпучим, а не слежавшимся», — порекомендовал он. Проливать огород горячей водой, продолжил Синьковский, нельзя. Если же ледяной дождь прошел над грядками, находящимися под нормальной толщины снежным покровом, нужно по всей площади грядок сломать образовавшийся наст, посоветовал он. Этот наст, объяснил агроном, нужно разбить на фрагменты и убрать с поверхности, а потом черенком от лопаты пробить отверстия по всей площади грядок. «Ничего, что они быстро заполнятся снегом — должную циркуляцию воздуха вы таким образом все равно обеспечите», — заверил специалист. Ранее Синьковский назвал правила выращивания баклажанов и перцев. Агроном рекомендовал использовать готовые жирные грунты с высоким содержанием органики.\u001b[39m\u001b[38;5;124m\"\u001b[39m\n\u001b[1;32m      7\u001b[0m doc \u001b[38;5;241m=\u001b[39m nlp(text)\n\u001b[0;32m----> 9\u001b[0m noun_phrases \u001b[38;5;241m=\u001b[39m \u001b[38;5;28mset\u001b[39m(chunk\u001b[38;5;241m.\u001b[39mtext\u001b[38;5;241m.\u001b[39mstrip()\u001b[38;5;241m.\u001b[39mlower() \u001b[38;5;28;01mfor\u001b[39;00m chunk \u001b[38;5;129;01min\u001b[39;00m doc\u001b[38;5;241m.\u001b[39mnoun_chunks)\n\u001b[1;32m     11\u001b[0m nouns \u001b[38;5;241m=\u001b[39m \u001b[38;5;28mset\u001b[39m()\n\u001b[1;32m     12\u001b[0m \u001b[38;5;28;01mfor\u001b[39;00m token \u001b[38;5;129;01min\u001b[39;00m doc:\n",
      "File \u001b[0;32m~/.local/lib/python3.9/site-packages/spacy/tokens/doc.pyx:900\u001b[0m, in \u001b[0;36mnoun_chunks\u001b[0;34m()\u001b[0m\n",
      "\u001b[0;31mNotImplementedError\u001b[0m: [E894] The 'noun_chunks' syntax iterator is not implemented for language 'ru'."
     ]
    }
   ],
   "source": [
    "import spacy\n",
    "\n",
    "nlp = spacy.load(\"ru_core_news_sm\")\n",
    "\n",
    "text = \"Способ спасти посевы после ледяного дождя он назвал в беседе с aif.ru. По его словам, главный вред, который может причинить ледяной дождь посеянным осенью чесноку, моркови, свекле и другим посадкам — помешать воздухообмену. Если дождь прошел после того, как дачник убрал снег над посадками или если на участке мало снега, то надо побыстрее ликвидировать ледяную корку, образовавшуюся на поверхности, уточнил он. «Делать это надо грубым механическим путем, разбив ее граблями — лучше теми, которыми вы убираете листву на участке. Избавившись от корки и убрав образовавшуюся мешанину подальше, восстановите снежный покров, хорошенько встряхивая снег, чтобы он был сыпучим, а не слежавшимся», — порекомендовал он. Проливать огород горячей водой, продолжил Синьковский, нельзя. Если же ледяной дождь прошел над грядками, находящимися под нормальной толщины снежным покровом, нужно по всей площади грядок сломать образовавшийся наст, посоветовал он. Этот наст, объяснил агроном, нужно разбить на фрагменты и убрать с поверхности, а потом черенком от лопаты пробить отверстия по всей площади грядок. «Ничего, что они быстро заполнятся снегом — должную циркуляцию воздуха вы таким образом все равно обеспечите», — заверил специалист. Ранее Синьковский назвал правила выращивания баклажанов и перцев. Агроном рекомендовал использовать готовые жирные грунты с высоким содержанием органики.\"\n",
    "\n",
    "doc = nlp(text)\n",
    "\n",
    "noun_phrases = set(chunk.text.strip().lower() for chunk in doc.noun_chunks)\n",
    "\n",
    "nouns = set()\n",
    "for token in doc:\n",
    "    if token.pos_ == \"NOUN\":\n",
    "        nouns.add(token.text)\n",
    "all_nouns = nouns.union(noun_phrases)\n",
    "candidates = list(filter(lambda candidate: candidate in all_nouns, all_candidates))\n",
    "print(candidates)"
   ]
  },
  {
   "cell_type": "code",
   "execution_count": 5,
   "id": "cec3eb16-1072-4cc4-9e1e-85e8e73debe5",
   "metadata": {
    "tags": []
   },
   "outputs": [
    {
     "name": "stdout",
     "output_type": "stream",
     "text": [
      "Defaulting to user installation because normal site-packages is not writeable\n",
      "Requirement already satisfied: transformers in ./.local/lib/python3.9/site-packages (4.40.0)\n",
      "Collecting sentencepiece\n",
      "  Downloading sentencepiece-0.2.0-cp39-cp39-manylinux_2_17_x86_64.manylinux2014_x86_64.whl (1.3 MB)\n",
      "     |████████████████████████████████| 1.3 MB 1.2 MB/s            \n",
      "\u001b[?25hRequirement already satisfied: pyyaml>=5.1 in /opt/tljh/user/lib/python3.9/site-packages (from transformers) (6.0.1)\n",
      "Requirement already satisfied: numpy>=1.17 in /opt/tljh/user/lib/python3.9/site-packages (from transformers) (1.26.4)\n",
      "Requirement already satisfied: packaging>=20.0 in /opt/tljh/user/lib/python3.9/site-packages (from transformers) (22.0)\n",
      "Requirement already satisfied: huggingface-hub<1.0,>=0.19.3 in ./.local/lib/python3.9/site-packages (from transformers) (0.22.2)\n",
      "Requirement already satisfied: requests in /opt/tljh/user/lib/python3.9/site-packages (from transformers) (2.28.1)\n",
      "Requirement already satisfied: tokenizers<0.20,>=0.19 in ./.local/lib/python3.9/site-packages (from transformers) (0.19.1)\n",
      "Requirement already satisfied: safetensors>=0.4.1 in ./.local/lib/python3.9/site-packages (from transformers) (0.4.3)\n",
      "Requirement already satisfied: filelock in ./.local/lib/python3.9/site-packages (from transformers) (3.13.4)\n",
      "Requirement already satisfied: tqdm>=4.27 in /opt/tljh/user/lib/python3.9/site-packages (from transformers) (4.62.3)\n",
      "Requirement already satisfied: regex!=2019.12.17 in ./.local/lib/python3.9/site-packages (from transformers) (2024.4.16)\n",
      "Requirement already satisfied: fsspec>=2023.5.0 in ./.local/lib/python3.9/site-packages (from huggingface-hub<1.0,>=0.19.3->transformers) (2024.3.1)\n",
      "Requirement already satisfied: typing-extensions>=3.7.4.3 in /opt/tljh/user/lib/python3.9/site-packages (from huggingface-hub<1.0,>=0.19.3->transformers) (4.10.0)\n",
      "Requirement already satisfied: certifi>=2017.4.17 in /opt/tljh/user/lib/python3.9/site-packages (from requests->transformers) (2024.2.2)\n",
      "Requirement already satisfied: urllib3<1.27,>=1.21.1 in /opt/tljh/user/lib/python3.9/site-packages (from requests->transformers) (1.26.7)\n",
      "Requirement already satisfied: charset-normalizer<3,>=2 in /opt/tljh/user/lib/python3.9/site-packages (from requests->transformers) (2.0.0)\n",
      "Requirement already satisfied: idna<4,>=2.5 in /opt/tljh/user/lib/python3.9/site-packages (from requests->transformers) (3.1)\n",
      "Installing collected packages: sentencepiece\n",
      "Successfully installed sentencepiece-0.2.0\n"
     ]
    }
   ],
   "source": [
    "!pip install transformers sentencepiece"
   ]
  },
  {
   "cell_type": "code",
   "execution_count": 10,
   "id": "f1c42722-2501-4ce8-820b-5e6b551142ba",
   "metadata": {
    "tags": []
   },
   "outputs": [],
   "source": [
    "text = \"Способ спасти посевы после ледяного дождя он назвал в беседе с aif.ru. По его словам, главный вред, который может причинить ледяной дождь посеянным осенью чесноку, моркови, свекле и другим посадкам — помешать воздухообмену. Если дождь прошел после того, как дачник убрал снег над посадками или если на участке мало снега, то надо побыстрее ликвидировать ледяную корку, образовавшуюся на поверхности, уточнил он. «Делать это надо грубым механическим путем, разбив ее граблями — лучше теми, которыми вы убираете листву на участке. Избавившись от корки и убрав образовавшуюся мешанину подальше, восстановите снежный покров, хорошенько встряхивая снег, чтобы он был сыпучим, а не слежавшимся», — порекомендовал он. Проливать огород горячей водой, продолжил Синьковский, нельзя. Если же ледяной дождь прошел над грядками, находящимися под нормальной толщины снежным покровом, нужно по всей площади грядок сломать образовавшийся наст, посоветовал он. Этот наст, объяснил агроном, нужно разбить на фрагменты и убрать с поверхности, а потом черенком от лопаты пробить отверстия по всей площади грядок. «Ничего, что они быстро заполнятся снегом — должную циркуляцию воздуха вы таким образом все равно обеспечите», — заверил специалист. Ранее Синьковский назвал правила выращивания баклажанов и перцев. Агроном рекомендовал использовать готовые жирные грунты с высоким содержанием органики.\"\n"
   ]
  },
  {
   "cell_type": "code",
   "execution_count": 18,
   "id": "721cd7c0-6996-41d7-bf19-e9b7f895729e",
   "metadata": {
    "tags": []
   },
   "outputs": [
    {
     "name": "stderr",
     "output_type": "stream",
     "text": [
      "huggingface/tokenizers: The current process just got forked, after parallelism has already been used. Disabling parallelism to avoid deadlocks...\n",
      "To disable this warning, you can either:\n",
      "\t- Avoid using `tokenizers` before the fork if possible\n",
      "\t- Explicitly set the environment variable TOKENIZERS_PARALLELISM=(true | false)\n"
     ]
    },
    {
     "name": "stdout",
     "output_type": "stream",
     "text": [
      "Defaulting to user installation because normal site-packages is not writeable\n",
      "Requirement already satisfied: multi-rake in ./.local/lib/python3.9/site-packages (0.0.2)\n",
      "Requirement already satisfied: numpy>=1.14.4 in /opt/tljh/user/lib/python3.9/site-packages (from multi-rake) (1.26.4)\n",
      "Requirement already satisfied: pycld2>=0.41 in ./.local/lib/python3.9/site-packages (from multi-rake) (0.41)\n",
      "Requirement already satisfied: pyrsistent>=0.14.2 in ./.local/lib/python3.9/site-packages (from multi-rake) (0.20.0)\n",
      "Requirement already satisfied: regex>=2018.6.6 in ./.local/lib/python3.9/site-packages (from multi-rake) (2024.4.16)\n"
     ]
    }
   ],
   "source": [
    "!CFLAGS=\"-Wno-narrowing\" pip install multi-rake"
   ]
  },
  {
   "cell_type": "code",
   "execution_count": 14,
   "id": "e3e4e1dc-99d8-459d-9d90-63a3f3a72b1d",
   "metadata": {
    "tags": []
   },
   "outputs": [],
   "source": [
    "from multi_rake import Rake\n",
    "\n",
    "rake = Rake(\n",
    "    min_chars=1,\n",
    "    max_words=3,\n",
    "    min_freq=1,\n",
    "    language_code=None,\n",
    "    stopwords=None,\n",
    "    lang_detect_threshold=50,\n",
    "    max_words_unknown_lang=2,\n",
    "    generated_stopwords_percentile=80,\n",
    "    generated_stopwords_max_len=3,\n",
    "    generated_stopwords_min_freq=2,\n",
    ")"
   ]
  },
  {
   "cell_type": "code",
   "execution_count": 15,
   "id": "f840584a-0184-4216-86bb-f28939f44b62",
   "metadata": {
    "tags": []
   },
   "outputs": [
    {
     "name": "stdout",
     "output_type": "stream",
     "text": [
      "[('способ спасти посевы', 9.0), ('дачник убрал снег', 9.0), ('грубым механическим путем', 9.0), ('восстановите снежный покров', 9.0), ('хорошенько встряхивая снег', 9.0), ('лопаты пробить отверстия', 9.0), ('всей площади грядок', 9.0), ('высоким содержанием органики', 9.0), ('— заверил специалист', 8.333333333333334), ('ледяной дождь прошел', 8.0), ('дождь прошел', 5.0), ('граблями —', 4.333333333333334), ('— порекомендовал', 4.333333333333334), ('ледяного дождя', 4.0), ('главный вред', 4.0), ('убираете листву', 4.0), ('продолжил синьковский', 4.0), ('объяснил агроном', 4.0), ('таким образом', 4.0), ('равно обеспечите', 4.0)]\n"
     ]
    }
   ],
   "source": [
    "keywords = rake.apply(text)\n",
    "\n",
    "print(keywords[:20])"
   ]
  },
  {
   "cell_type": "code",
   "execution_count": 37,
   "id": "897d238b-47ec-4429-b86e-3171373207b8",
   "metadata": {},
   "outputs": [
    {
     "name": "stderr",
     "output_type": "stream",
     "text": [
      "huggingface/tokenizers: The current process just got forked, after parallelism has already been used. Disabling parallelism to avoid deadlocks...\n",
      "To disable this warning, you can either:\n",
      "\t- Avoid using `tokenizers` before the fork if possible\n",
      "\t- Explicitly set the environment variable TOKENIZERS_PARALLELISM=(true | false)\n"
     ]
    },
    {
     "name": "stdout",
     "output_type": "stream",
     "text": [
      "Defaulting to user installation because normal site-packages is not writeable\n",
      "Collecting keybert\n",
      "  Downloading keybert-0.8.4.tar.gz (29 kB)\n",
      "  Preparing metadata (setup.py) ... \u001b[?25ldone\n",
      "\u001b[?25hCollecting sentence-transformers>=0.3.8\n",
      "  Downloading sentence_transformers-2.7.0-py3-none-any.whl (171 kB)\n",
      "     |████████████████████████████████| 171 kB 1.7 MB/s            \n",
      "\u001b[?25hRequirement already satisfied: scikit-learn>=0.22.2 in /opt/tljh/user/lib/python3.9/site-packages (from keybert) (1.1.3)\n",
      "Requirement already satisfied: numpy>=1.18.5 in /opt/tljh/user/lib/python3.9/site-packages (from keybert) (1.26.4)\n",
      "Requirement already satisfied: rich>=10.4.0 in ./.local/lib/python3.9/site-packages (from keybert) (13.7.1)\n",
      "Requirement already satisfied: markdown-it-py>=2.2.0 in ./.local/lib/python3.9/site-packages (from rich>=10.4.0->keybert) (3.0.0)\n",
      "Requirement already satisfied: pygments<3.0.0,>=2.13.0 in /opt/tljh/user/lib/python3.9/site-packages (from rich>=10.4.0->keybert) (2.17.2)\n",
      "Requirement already satisfied: joblib>=1.0.0 in /opt/tljh/user/lib/python3.9/site-packages (from scikit-learn>=0.22.2->keybert) (1.3.2)\n",
      "Requirement already satisfied: scipy>=1.3.2 in /opt/tljh/user/lib/python3.9/site-packages (from scikit-learn>=0.22.2->keybert) (1.12.0)\n",
      "Requirement already satisfied: threadpoolctl>=2.0.0 in /opt/tljh/user/lib/python3.9/site-packages (from scikit-learn>=0.22.2->keybert) (3.3.0)\n",
      "Requirement already satisfied: torch>=1.11.0 in ./.local/lib/python3.9/site-packages (from sentence-transformers>=0.3.8->keybert) (2.2.2)\n",
      "Requirement already satisfied: tqdm in /opt/tljh/user/lib/python3.9/site-packages (from sentence-transformers>=0.3.8->keybert) (4.62.3)\n",
      "Requirement already satisfied: transformers<5.0.0,>=4.34.0 in ./.local/lib/python3.9/site-packages (from sentence-transformers>=0.3.8->keybert) (4.40.0)\n",
      "Requirement already satisfied: Pillow in ./.local/lib/python3.9/site-packages (from sentence-transformers>=0.3.8->keybert) (10.3.0)\n",
      "Requirement already satisfied: huggingface-hub>=0.15.1 in ./.local/lib/python3.9/site-packages (from sentence-transformers>=0.3.8->keybert) (0.22.2)\n",
      "Requirement already satisfied: filelock in ./.local/lib/python3.9/site-packages (from huggingface-hub>=0.15.1->sentence-transformers>=0.3.8->keybert) (3.13.4)\n",
      "Requirement already satisfied: packaging>=20.9 in /opt/tljh/user/lib/python3.9/site-packages (from huggingface-hub>=0.15.1->sentence-transformers>=0.3.8->keybert) (22.0)\n",
      "Requirement already satisfied: requests in /opt/tljh/user/lib/python3.9/site-packages (from huggingface-hub>=0.15.1->sentence-transformers>=0.3.8->keybert) (2.28.1)\n",
      "Requirement already satisfied: pyyaml>=5.1 in /opt/tljh/user/lib/python3.9/site-packages (from huggingface-hub>=0.15.1->sentence-transformers>=0.3.8->keybert) (6.0.1)\n",
      "Requirement already satisfied: typing-extensions>=3.7.4.3 in /opt/tljh/user/lib/python3.9/site-packages (from huggingface-hub>=0.15.1->sentence-transformers>=0.3.8->keybert) (4.10.0)\n",
      "Requirement already satisfied: fsspec>=2023.5.0 in ./.local/lib/python3.9/site-packages (from huggingface-hub>=0.15.1->sentence-transformers>=0.3.8->keybert) (2024.3.1)\n",
      "Requirement already satisfied: mdurl~=0.1 in ./.local/lib/python3.9/site-packages (from markdown-it-py>=2.2.0->rich>=10.4.0->keybert) (0.1.2)\n",
      "Requirement already satisfied: nvidia-cudnn-cu12==8.9.2.26 in ./.local/lib/python3.9/site-packages (from torch>=1.11.0->sentence-transformers>=0.3.8->keybert) (8.9.2.26)\n",
      "Requirement already satisfied: nvidia-cuda-runtime-cu12==12.1.105 in ./.local/lib/python3.9/site-packages (from torch>=1.11.0->sentence-transformers>=0.3.8->keybert) (12.1.105)\n",
      "Requirement already satisfied: nvidia-cublas-cu12==12.1.3.1 in ./.local/lib/python3.9/site-packages (from torch>=1.11.0->sentence-transformers>=0.3.8->keybert) (12.1.3.1)\n",
      "Requirement already satisfied: nvidia-cusolver-cu12==11.4.5.107 in ./.local/lib/python3.9/site-packages (from torch>=1.11.0->sentence-transformers>=0.3.8->keybert) (11.4.5.107)\n",
      "Requirement already satisfied: nvidia-cusparse-cu12==12.1.0.106 in ./.local/lib/python3.9/site-packages (from torch>=1.11.0->sentence-transformers>=0.3.8->keybert) (12.1.0.106)\n",
      "Requirement already satisfied: nvidia-nccl-cu12==2.19.3 in ./.local/lib/python3.9/site-packages (from torch>=1.11.0->sentence-transformers>=0.3.8->keybert) (2.19.3)\n",
      "Requirement already satisfied: triton==2.2.0 in ./.local/lib/python3.9/site-packages (from torch>=1.11.0->sentence-transformers>=0.3.8->keybert) (2.2.0)\n",
      "Requirement already satisfied: nvidia-cufft-cu12==11.0.2.54 in ./.local/lib/python3.9/site-packages (from torch>=1.11.0->sentence-transformers>=0.3.8->keybert) (11.0.2.54)\n",
      "Requirement already satisfied: nvidia-curand-cu12==10.3.2.106 in ./.local/lib/python3.9/site-packages (from torch>=1.11.0->sentence-transformers>=0.3.8->keybert) (10.3.2.106)\n",
      "Requirement already satisfied: sympy in ./.local/lib/python3.9/site-packages (from torch>=1.11.0->sentence-transformers>=0.3.8->keybert) (1.12)\n",
      "Requirement already satisfied: nvidia-cuda-cupti-cu12==12.1.105 in ./.local/lib/python3.9/site-packages (from torch>=1.11.0->sentence-transformers>=0.3.8->keybert) (12.1.105)\n",
      "Requirement already satisfied: nvidia-nvtx-cu12==12.1.105 in ./.local/lib/python3.9/site-packages (from torch>=1.11.0->sentence-transformers>=0.3.8->keybert) (12.1.105)\n",
      "Requirement already satisfied: networkx in ./.local/lib/python3.9/site-packages (from torch>=1.11.0->sentence-transformers>=0.3.8->keybert) (3.2.1)\n",
      "Requirement already satisfied: jinja2 in ./.local/lib/python3.9/site-packages (from torch>=1.11.0->sentence-transformers>=0.3.8->keybert) (3.1.3)\n",
      "Requirement already satisfied: nvidia-cuda-nvrtc-cu12==12.1.105 in ./.local/lib/python3.9/site-packages (from torch>=1.11.0->sentence-transformers>=0.3.8->keybert) (12.1.105)\n",
      "Requirement already satisfied: nvidia-nvjitlink-cu12 in ./.local/lib/python3.9/site-packages (from nvidia-cusolver-cu12==11.4.5.107->torch>=1.11.0->sentence-transformers>=0.3.8->keybert) (12.4.127)\n",
      "Requirement already satisfied: tokenizers<0.20,>=0.19 in ./.local/lib/python3.9/site-packages (from transformers<5.0.0,>=4.34.0->sentence-transformers>=0.3.8->keybert) (0.19.1)\n",
      "Requirement already satisfied: safetensors>=0.4.1 in ./.local/lib/python3.9/site-packages (from transformers<5.0.0,>=4.34.0->sentence-transformers>=0.3.8->keybert) (0.4.3)\n",
      "Requirement already satisfied: regex!=2019.12.17 in ./.local/lib/python3.9/site-packages (from transformers<5.0.0,>=4.34.0->sentence-transformers>=0.3.8->keybert) (2024.4.16)\n",
      "Requirement already satisfied: MarkupSafe>=2.0 in /opt/tljh/user/lib/python3.9/site-packages (from jinja2->torch>=1.11.0->sentence-transformers>=0.3.8->keybert) (2.1.5)\n",
      "Requirement already satisfied: charset-normalizer<3,>=2 in /opt/tljh/user/lib/python3.9/site-packages (from requests->huggingface-hub>=0.15.1->sentence-transformers>=0.3.8->keybert) (2.0.0)\n",
      "Requirement already satisfied: certifi>=2017.4.17 in /opt/tljh/user/lib/python3.9/site-packages (from requests->huggingface-hub>=0.15.1->sentence-transformers>=0.3.8->keybert) (2024.2.2)\n",
      "Requirement already satisfied: urllib3<1.27,>=1.21.1 in /opt/tljh/user/lib/python3.9/site-packages (from requests->huggingface-hub>=0.15.1->sentence-transformers>=0.3.8->keybert) (1.26.7)\n",
      "Requirement already satisfied: idna<4,>=2.5 in /opt/tljh/user/lib/python3.9/site-packages (from requests->huggingface-hub>=0.15.1->sentence-transformers>=0.3.8->keybert) (3.1)\n",
      "Requirement already satisfied: mpmath>=0.19 in ./.local/lib/python3.9/site-packages (from sympy->torch>=1.11.0->sentence-transformers>=0.3.8->keybert) (1.3.0)\n",
      "Building wheels for collected packages: keybert\n",
      "  Building wheel for keybert (setup.py) ... \u001b[?25ldone\n",
      "\u001b[?25h  Created wheel for keybert: filename=keybert-0.8.4-py3-none-any.whl size=39231 sha256=89bbaf35bb28db8990608771b6be72040facb398cb7c0694107ac0156c0a043e\n",
      "  Stored in directory: /home/datadisk/jupyter-admin/.cache/pip/wheels/92/ba/d5/3ee7ff1730013a35be73dc895542a516c3a196cbf96ecbea32\n",
      "Successfully built keybert\n",
      "Installing collected packages: sentence-transformers, keybert\n",
      "Successfully installed keybert-0.8.4 sentence-transformers-2.7.0\n"
     ]
    }
   ],
   "source": [
    "!pip install keybert"
   ]
  },
  {
   "cell_type": "code",
   "execution_count": 12,
   "id": "11936283-c2cb-43a3-9c2c-c9a227b3289e",
   "metadata": {
    "tags": []
   },
   "outputs": [
    {
     "name": "stdout",
     "output_type": "stream",
     "text": [
      "['aif', 'aif ru', 'ru', 'ru по', 'агроном', 'агроном нужно', 'агроном рекомендовал', 'баклажанов', 'баклажанов перцев', 'беседе']\n"
     ]
    }
   ],
   "source": [
    "from sklearn.feature_extraction.text import CountVectorizer\n",
    "\n",
    "n_gram_range = (1, 2)\n",
    "stop_words = \"russian\"\n",
    "# Extract candidate words/phrases\n",
    "count = CountVectorizer(ngram_range=n_gram_range).fit([text])\n",
    "all_candidates = count.get_feature_names()\n",
    "print(all_candidates[:10])"
   ]
  },
  {
   "cell_type": "code",
   "execution_count": 16,
   "id": "d3f4d6e0-6c10-4665-bad8-c8d8dbab7e30",
   "metadata": {
    "tags": []
   },
   "outputs": [
    {
     "name": "stdout",
     "output_type": "stream",
     "text": [
      "Defaulting to user installation because normal site-packages is not writeable\n",
      "Collecting streamlit\n",
      "  Downloading streamlit-1.12.0-py2.py3-none-any.whl (9.1 MB)\n",
      "     |████████████████████████████████| 9.1 MB 1.1 MB/s            ��▏  | 8.3 MB 1.1 MB/s eta 0:00:01\n",
      "\u001b[?25hRequirement already satisfied: numpy in /opt/tljh/user/lib/python3.9/site-packages (from streamlit) (1.26.4)\n",
      "Collecting validators>=0.2\n",
      "  Downloading validators-0.28.1-py3-none-any.whl (39 kB)\n",
      "Requirement already satisfied: click>=7.0 in /opt/tljh/user/lib/python3.9/site-packages (from streamlit) (8.1.7)\n",
      "Requirement already satisfied: pandas>=0.21.0 in ./.local/lib/python3.9/site-packages (from streamlit) (2.2.2)\n",
      "Collecting tzlocal>=1.1\n",
      "  Downloading tzlocal-5.2-py3-none-any.whl (17 kB)\n",
      "Collecting toml\n",
      "  Downloading toml-0.10.2-py2.py3-none-any.whl (16 kB)\n",
      "Requirement already satisfied: pillow>=6.2.0 in ./.local/lib/python3.9/site-packages (from streamlit) (10.3.0)\n",
      "Requirement already satisfied: rich>=10.11.0 in ./.local/lib/python3.9/site-packages (from streamlit) (13.7.1)\n",
      "Requirement already satisfied: typing-extensions>=3.10.0.0 in /opt/tljh/user/lib/python3.9/site-packages (from streamlit) (4.10.0)\n",
      "Requirement already satisfied: gitpython!=3.1.19 in /opt/tljh/user/lib/python3.9/site-packages (from streamlit) (3.1.42)\n",
      "Collecting pydeck>=0.1.dev5\n",
      "  Downloading pydeck-0.8.1b0-py2.py3-none-any.whl (4.8 MB)\n",
      "     |████████████████████████████████| 4.8 MB 71.4 MB/s            \n",
      "\u001b[?25hRequirement already satisfied: blinker>=1.0.0 in /opt/tljh/user/lib/python3.9/site-packages (from streamlit) (1.7.0)\n",
      "Requirement already satisfied: tornado>=5.0 in /opt/tljh/user/lib/python3.9/site-packages (from streamlit) (6.4)\n",
      "Requirement already satisfied: python-dateutil in /opt/tljh/user/lib/python3.9/site-packages (from streamlit) (2.9.0.post0)\n",
      "Collecting cachetools>=4.0\n",
      "  Downloading cachetools-5.3.3-py3-none-any.whl (9.3 kB)\n",
      "Requirement already satisfied: importlib-metadata>=1.4 in /opt/tljh/user/lib/python3.9/site-packages (from streamlit) (5.2.0)\n",
      "Requirement already satisfied: packaging>=14.1 in /opt/tljh/user/lib/python3.9/site-packages (from streamlit) (22.0)\n",
      "Requirement already satisfied: pyarrow>=4.0 in ./.local/lib/python3.9/site-packages (from streamlit) (15.0.2)\n",
      "Collecting altair>=3.2.0\n",
      "  Downloading altair-5.3.0-py3-none-any.whl (857 kB)\n",
      "     |████████████████████████████████| 857 kB 96.9 MB/s            \n",
      "\u001b[?25hCollecting pympler>=0.9\n",
      "  Downloading Pympler-1.0.1-py3-none-any.whl (164 kB)\n",
      "     |████████████████████████████████| 164 kB 73.2 MB/s            \n",
      "\u001b[?25hRequirement already satisfied: requests>=2.4 in /opt/tljh/user/lib/python3.9/site-packages (from streamlit) (2.28.1)\n",
      "Collecting semver\n",
      "  Downloading semver-3.0.2-py3-none-any.whl (17 kB)\n",
      "Collecting watchdog\n",
      "  Downloading watchdog-4.0.0-py3-none-manylinux2014_x86_64.whl (82 kB)\n",
      "     |████████████████████████████████| 82 kB 3.4 MB/s             \n",
      "\u001b[?25hCollecting protobuf<4,>=3.12\n",
      "  Downloading protobuf-3.20.3-cp39-cp39-manylinux_2_5_x86_64.manylinux1_x86_64.whl (1.0 MB)\n",
      "     |████████████████████████████████| 1.0 MB 82.5 MB/s            \n",
      "\u001b[?25hRequirement already satisfied: jsonschema>=3.0 in /opt/tljh/user/lib/python3.9/site-packages (from altair>=3.2.0->streamlit) (4.21.1)\n",
      "Collecting toolz\n",
      "  Downloading toolz-0.12.1-py3-none-any.whl (56 kB)\n",
      "     |████████████████████████████████| 56 kB 10.8 MB/s            \n",
      "\u001b[?25hRequirement already satisfied: jinja2 in ./.local/lib/python3.9/site-packages (from altair>=3.2.0->streamlit) (3.1.3)\n",
      "Requirement already satisfied: gitdb<5,>=4.0.1 in /opt/tljh/user/lib/python3.9/site-packages (from gitpython!=3.1.19->streamlit) (4.0.11)\n",
      "Requirement already satisfied: zipp>=0.5 in /opt/tljh/user/lib/python3.9/site-packages (from importlib-metadata>=1.4->streamlit) (3.17.0)\n",
      "Requirement already satisfied: pytz>=2020.1 in ./.local/lib/python3.9/site-packages (from pandas>=0.21.0->streamlit) (2024.1)\n",
      "Requirement already satisfied: tzdata>=2022.7 in ./.local/lib/python3.9/site-packages (from pandas>=0.21.0->streamlit) (2024.1)\n",
      "Requirement already satisfied: six>=1.5 in /opt/tljh/user/lib/python3.9/site-packages (from python-dateutil->streamlit) (1.16.0)\n",
      "Requirement already satisfied: certifi>=2017.4.17 in /opt/tljh/user/lib/python3.9/site-packages (from requests>=2.4->streamlit) (2024.2.2)\n",
      "Requirement already satisfied: idna<4,>=2.5 in /opt/tljh/user/lib/python3.9/site-packages (from requests>=2.4->streamlit) (3.1)\n",
      "Requirement already satisfied: charset-normalizer<3,>=2 in /opt/tljh/user/lib/python3.9/site-packages (from requests>=2.4->streamlit) (2.0.0)\n",
      "Requirement already satisfied: urllib3<1.27,>=1.21.1 in /opt/tljh/user/lib/python3.9/site-packages (from requests>=2.4->streamlit) (1.26.7)\n",
      "Requirement already satisfied: pygments<3.0.0,>=2.13.0 in /opt/tljh/user/lib/python3.9/site-packages (from rich>=10.11.0->streamlit) (2.17.2)\n",
      "Requirement already satisfied: markdown-it-py>=2.2.0 in ./.local/lib/python3.9/site-packages (from rich>=10.11.0->streamlit) (3.0.0)\n",
      "Requirement already satisfied: smmap<6,>=3.0.1 in /opt/tljh/user/lib/python3.9/site-packages (from gitdb<5,>=4.0.1->gitpython!=3.1.19->streamlit) (5.0.1)\n",
      "Requirement already satisfied: MarkupSafe>=2.0 in /opt/tljh/user/lib/python3.9/site-packages (from jinja2->altair>=3.2.0->streamlit) (2.1.5)\n",
      "Requirement already satisfied: jsonschema-specifications>=2023.03.6 in /opt/tljh/user/lib/python3.9/site-packages (from jsonschema>=3.0->altair>=3.2.0->streamlit) (2023.12.1)\n",
      "Requirement already satisfied: referencing>=0.28.4 in /opt/tljh/user/lib/python3.9/site-packages (from jsonschema>=3.0->altair>=3.2.0->streamlit) (0.33.0)\n",
      "Requirement already satisfied: rpds-py>=0.7.1 in /opt/tljh/user/lib/python3.9/site-packages (from jsonschema>=3.0->altair>=3.2.0->streamlit) (0.18.0)\n",
      "Requirement already satisfied: attrs>=22.2.0 in /opt/tljh/user/lib/python3.9/site-packages (from jsonschema>=3.0->altair>=3.2.0->streamlit) (23.2.0)\n",
      "Requirement already satisfied: mdurl~=0.1 in ./.local/lib/python3.9/site-packages (from markdown-it-py>=2.2.0->rich>=10.11.0->streamlit) (0.1.2)\n",
      "Installing collected packages: toolz, watchdog, validators, tzlocal, toml, semver, pympler, pydeck, protobuf, cachetools, altair, streamlit\n",
      "\u001b[33m  WARNING: The script watchmedo is installed in '/home/datadisk/jupyter-admin/.local/bin' which is not on PATH.\n",
      "  Consider adding this directory to PATH or, if you prefer to suppress this warning, use --no-warn-script-location.\u001b[0m\n",
      "\u001b[33m  WARNING: The script pysemver is installed in '/home/datadisk/jupyter-admin/.local/bin' which is not on PATH.\n",
      "  Consider adding this directory to PATH or, if you prefer to suppress this warning, use --no-warn-script-location.\u001b[0m\n",
      "\u001b[33m  WARNING: The script streamlit is installed in '/home/datadisk/jupyter-admin/.local/bin' which is not on PATH.\n",
      "  Consider adding this directory to PATH or, if you prefer to suppress this warning, use --no-warn-script-location.\u001b[0m\n",
      "\u001b[31mERROR: pip's dependency resolver does not currently take into account all the packages that are installed. This behaviour is the source of the following dependency conflicts.\n",
      "mlflow 2.1.1 requires pandas<2, but you have pandas 2.2.2 which is incompatible.\n",
      "mlflow 2.1.1 requires pyarrow<11,>=4.0.0, but you have pyarrow 15.0.2 which is incompatible.\n",
      "mlflow 2.1.1 requires pytz<2023, but you have pytz 2024.1 which is incompatible.\u001b[0m\n",
      "Successfully installed altair-5.3.0 cachetools-5.3.3 protobuf-3.20.3 pydeck-0.8.1b0 pympler-1.0.1 semver-3.0.2 streamlit-1.12.0 toml-0.10.2 toolz-0.12.1 tzlocal-5.2 validators-0.28.1 watchdog-4.0.0\n",
      "Defaulting to user installation because normal site-packages is not writeable\n",
      "Collecting streamlit_tags\n",
      "  Downloading streamlit_tags-1.2.8-py3-none-any.whl (2.7 MB)\n",
      "     |████████████████████████████████| 2.7 MB 1.1 MB/s            \n",
      "\u001b[?25hRequirement already satisfied: streamlit>=0.63 in ./.local/lib/python3.9/site-packages (from streamlit_tags) (1.12.0)\n",
      "Requirement already satisfied: gitpython!=3.1.19 in /opt/tljh/user/lib/python3.9/site-packages (from streamlit>=0.63->streamlit_tags) (3.1.42)\n",
      "Requirement already satisfied: pillow>=6.2.0 in ./.local/lib/python3.9/site-packages (from streamlit>=0.63->streamlit_tags) (10.3.0)\n",
      "Requirement already satisfied: rich>=10.11.0 in ./.local/lib/python3.9/site-packages (from streamlit>=0.63->streamlit_tags) (13.7.1)\n",
      "Requirement already satisfied: click>=7.0 in /opt/tljh/user/lib/python3.9/site-packages (from streamlit>=0.63->streamlit_tags) (8.1.7)\n",
      "Requirement already satisfied: importlib-metadata>=1.4 in /opt/tljh/user/lib/python3.9/site-packages (from streamlit>=0.63->streamlit_tags) (5.2.0)\n",
      "Requirement already satisfied: validators>=0.2 in ./.local/lib/python3.9/site-packages (from streamlit>=0.63->streamlit_tags) (0.28.1)\n",
      "Requirement already satisfied: pandas>=0.21.0 in ./.local/lib/python3.9/site-packages (from streamlit>=0.63->streamlit_tags) (2.2.2)\n",
      "Requirement already satisfied: numpy in /opt/tljh/user/lib/python3.9/site-packages (from streamlit>=0.63->streamlit_tags) (1.26.4)\n",
      "Requirement already satisfied: typing-extensions>=3.10.0.0 in /opt/tljh/user/lib/python3.9/site-packages (from streamlit>=0.63->streamlit_tags) (4.10.0)\n",
      "Requirement already satisfied: altair>=3.2.0 in ./.local/lib/python3.9/site-packages (from streamlit>=0.63->streamlit_tags) (5.3.0)\n",
      "Requirement already satisfied: protobuf<4,>=3.12 in ./.local/lib/python3.9/site-packages (from streamlit>=0.63->streamlit_tags) (3.20.3)\n",
      "Requirement already satisfied: semver in ./.local/lib/python3.9/site-packages (from streamlit>=0.63->streamlit_tags) (3.0.2)\n",
      "Requirement already satisfied: requests>=2.4 in /opt/tljh/user/lib/python3.9/site-packages (from streamlit>=0.63->streamlit_tags) (2.28.1)\n",
      "Requirement already satisfied: blinker>=1.0.0 in /opt/tljh/user/lib/python3.9/site-packages (from streamlit>=0.63->streamlit_tags) (1.7.0)\n",
      "Requirement already satisfied: pyarrow>=4.0 in ./.local/lib/python3.9/site-packages (from streamlit>=0.63->streamlit_tags) (15.0.2)\n",
      "Requirement already satisfied: pydeck>=0.1.dev5 in ./.local/lib/python3.9/site-packages (from streamlit>=0.63->streamlit_tags) (0.8.1b0)\n",
      "Requirement already satisfied: pympler>=0.9 in ./.local/lib/python3.9/site-packages (from streamlit>=0.63->streamlit_tags) (1.0.1)\n",
      "Requirement already satisfied: tzlocal>=1.1 in ./.local/lib/python3.9/site-packages (from streamlit>=0.63->streamlit_tags) (5.2)\n",
      "Requirement already satisfied: tornado>=5.0 in /opt/tljh/user/lib/python3.9/site-packages (from streamlit>=0.63->streamlit_tags) (6.4)\n",
      "Requirement already satisfied: watchdog in ./.local/lib/python3.9/site-packages (from streamlit>=0.63->streamlit_tags) (4.0.0)\n",
      "Requirement already satisfied: toml in ./.local/lib/python3.9/site-packages (from streamlit>=0.63->streamlit_tags) (0.10.2)\n",
      "Requirement already satisfied: python-dateutil in /opt/tljh/user/lib/python3.9/site-packages (from streamlit>=0.63->streamlit_tags) (2.9.0.post0)\n",
      "Requirement already satisfied: packaging>=14.1 in /opt/tljh/user/lib/python3.9/site-packages (from streamlit>=0.63->streamlit_tags) (22.0)\n",
      "Requirement already satisfied: cachetools>=4.0 in ./.local/lib/python3.9/site-packages (from streamlit>=0.63->streamlit_tags) (5.3.3)\n",
      "Requirement already satisfied: jinja2 in ./.local/lib/python3.9/site-packages (from altair>=3.2.0->streamlit>=0.63->streamlit_tags) (3.1.3)\n",
      "Requirement already satisfied: toolz in ./.local/lib/python3.9/site-packages (from altair>=3.2.0->streamlit>=0.63->streamlit_tags) (0.12.1)\n",
      "Requirement already satisfied: jsonschema>=3.0 in /opt/tljh/user/lib/python3.9/site-packages (from altair>=3.2.0->streamlit>=0.63->streamlit_tags) (4.21.1)\n",
      "Requirement already satisfied: gitdb<5,>=4.0.1 in /opt/tljh/user/lib/python3.9/site-packages (from gitpython!=3.1.19->streamlit>=0.63->streamlit_tags) (4.0.11)\n",
      "Requirement already satisfied: zipp>=0.5 in /opt/tljh/user/lib/python3.9/site-packages (from importlib-metadata>=1.4->streamlit>=0.63->streamlit_tags) (3.17.0)\n",
      "Requirement already satisfied: pytz>=2020.1 in ./.local/lib/python3.9/site-packages (from pandas>=0.21.0->streamlit>=0.63->streamlit_tags) (2024.1)\n",
      "Requirement already satisfied: tzdata>=2022.7 in ./.local/lib/python3.9/site-packages (from pandas>=0.21.0->streamlit>=0.63->streamlit_tags) (2024.1)\n",
      "Requirement already satisfied: six>=1.5 in /opt/tljh/user/lib/python3.9/site-packages (from python-dateutil->streamlit>=0.63->streamlit_tags) (1.16.0)\n",
      "Requirement already satisfied: urllib3<1.27,>=1.21.1 in /opt/tljh/user/lib/python3.9/site-packages (from requests>=2.4->streamlit>=0.63->streamlit_tags) (1.26.7)\n",
      "Requirement already satisfied: charset-normalizer<3,>=2 in /opt/tljh/user/lib/python3.9/site-packages (from requests>=2.4->streamlit>=0.63->streamlit_tags) (2.0.0)\n",
      "Requirement already satisfied: idna<4,>=2.5 in /opt/tljh/user/lib/python3.9/site-packages (from requests>=2.4->streamlit>=0.63->streamlit_tags) (3.1)\n",
      "Requirement already satisfied: certifi>=2017.4.17 in /opt/tljh/user/lib/python3.9/site-packages (from requests>=2.4->streamlit>=0.63->streamlit_tags) (2024.2.2)\n",
      "Requirement already satisfied: pygments<3.0.0,>=2.13.0 in /opt/tljh/user/lib/python3.9/site-packages (from rich>=10.11.0->streamlit>=0.63->streamlit_tags) (2.17.2)\n",
      "Requirement already satisfied: markdown-it-py>=2.2.0 in ./.local/lib/python3.9/site-packages (from rich>=10.11.0->streamlit>=0.63->streamlit_tags) (3.0.0)\n",
      "Requirement already satisfied: smmap<6,>=3.0.1 in /opt/tljh/user/lib/python3.9/site-packages (from gitdb<5,>=4.0.1->gitpython!=3.1.19->streamlit>=0.63->streamlit_tags) (5.0.1)\n",
      "Requirement already satisfied: MarkupSafe>=2.0 in /opt/tljh/user/lib/python3.9/site-packages (from jinja2->altair>=3.2.0->streamlit>=0.63->streamlit_tags) (2.1.5)\n",
      "Requirement already satisfied: referencing>=0.28.4 in /opt/tljh/user/lib/python3.9/site-packages (from jsonschema>=3.0->altair>=3.2.0->streamlit>=0.63->streamlit_tags) (0.33.0)\n",
      "Requirement already satisfied: rpds-py>=0.7.1 in /opt/tljh/user/lib/python3.9/site-packages (from jsonschema>=3.0->altair>=3.2.0->streamlit>=0.63->streamlit_tags) (0.18.0)\n",
      "Requirement already satisfied: jsonschema-specifications>=2023.03.6 in /opt/tljh/user/lib/python3.9/site-packages (from jsonschema>=3.0->altair>=3.2.0->streamlit>=0.63->streamlit_tags) (2023.12.1)\n",
      "Requirement already satisfied: attrs>=22.2.0 in /opt/tljh/user/lib/python3.9/site-packages (from jsonschema>=3.0->altair>=3.2.0->streamlit>=0.63->streamlit_tags) (23.2.0)\n",
      "Requirement already satisfied: mdurl~=0.1 in ./.local/lib/python3.9/site-packages (from markdown-it-py>=2.2.0->rich>=10.11.0->streamlit>=0.63->streamlit_tags) (0.1.2)\n",
      "Installing collected packages: streamlit-tags\n",
      "Successfully installed streamlit-tags-1.2.8\n"
     ]
    }
   ],
   "source": [
    "!pip install streamlit\n",
    "!pip install streamlit_tags"
   ]
  },
  {
   "cell_type": "code",
   "execution_count": 12,
   "id": "5b3e107b-26ef-4853-a024-f63ae611f2b2",
   "metadata": {
    "tags": []
   },
   "outputs": [],
   "source": [
    "text = \"Способ спасти посевы после ледяного дождя он назвал в беседе с aif.ru. По его словам, главный вред, который может причинить ледяной дождь посеянным осенью чесноку, моркови, свекле и другим посадкам — помешать воздухообмену. Если дождь прошел после того, как дачник убрал снег над посадками или если на участке мало снега, то надо побыстрее ликвидировать ледяную корку, образовавшуюся на поверхности, уточнил он. «Делать это надо грубым механическим путем, разбив ее граблями — лучше теми, которыми вы убираете листву на участке. Избавившись от корки и убрав образовавшуюся мешанину подальше, восстановите снежный покров, хорошенько встряхивая снег, чтобы он был сыпучим, а не слежавшимся», — порекомендовал он. Проливать огород горячей водой, продолжил Синьковский, нельзя. Если же ледяной дождь прошел над грядками, находящимися под нормальной толщины снежным покровом, нужно по всей площади грядок сломать образовавшийся наст, посоветовал он. Этот наст, объяснил агроном, нужно разбить на фрагменты и убрать с поверхности, а потом черенком от лопаты пробить отверстия по всей площади грядок. «Ничего, что они быстро заполнятся снегом — должную циркуляцию воздуха вы таким образом все равно обеспечите», — заверил специалист. Ранее Синьковский назвал правила выращивания баклажанов и перцев. Агроном рекомендовал использовать готовые жирные грунты с высоким содержанием органики.\""
   ]
  },
  {
   "cell_type": "code",
   "execution_count": 13,
   "id": "91c0a4a9-ff37-4004-ad77-1da1deddcdba",
   "metadata": {
    "tags": []
   },
   "outputs": [
    {
     "name": "stdout",
     "output_type": "stream",
     "text": [
      "(312,)\n"
     ]
    }
   ],
   "source": [
    "# pip install transformers sentencepiece\n",
    "import torch\n",
    "from transformers import AutoTokenizer, AutoModel\n",
    "tokenizer = AutoTokenizer.from_pretrained(\"cointegrated/rubert-tiny2\")\n",
    "model = AutoModel.from_pretrained(\"cointegrated/rubert-tiny2\")\n",
    "# model.cuda()  # uncomment it if you have a GPU\n",
    "\n",
    "def embed_bert_cls(text, model, tokenizer):\n",
    "    t = tokenizer(text, padding=True, truncation=True, return_tensors='pt')\n",
    "    with torch.no_grad():\n",
    "        model_output = model(**{k: v.to(model.device) for k, v in t.items()})\n",
    "    embeddings = model_output.last_hidden_state[:, 0, :]\n",
    "    embeddings = torch.nn.functional.normalize(embeddings)\n",
    "    return embeddings[0].cpu().numpy()\n",
    "\n",
    "print(embed_bert_cls(text, model, tokenizer).shape)\n"
   ]
  },
  {
   "cell_type": "code",
   "execution_count": 14,
   "id": "6b9bfa49-788f-4ece-a8e7-90329b25cbe0",
   "metadata": {
    "tags": []
   },
   "outputs": [
    {
     "name": "stderr",
     "output_type": "stream",
     "text": [
      "/home/datadisk/jupyter-admin/.local/lib/python3.9/site-packages/torch/cuda/__init__.py:628: UserWarning: Can't initialize NVML\n",
      "  warnings.warn(\"Can't initialize NVML\")\n"
     ]
    },
    {
     "name": "stdout",
     "output_type": "stream",
     "text": [
      "Keywords based on frequency: ['Способ', 'спасти', 'посевы', 'ледяного', 'дождя', 'назвал', 'беседе', 'словам', 'главный', 'вред', 'причинить', 'ледяной', 'дождь', 'посеянным', 'осенью', 'чесноку', 'моркови', 'свекле', 'посадкам', 'помешать', 'воздухообмену', 'дождь', 'прошел', 'дачник', 'убрал', 'снег', 'посадками', 'участке', 'снега', 'побыстрее', 'ликвидировать', 'ледяную', 'корку', 'образовавшуюся', 'поверхности', 'уточнил', 'Делать', 'грубым', 'механическим', 'путем', 'разбив', 'граблями', 'лучше', 'убираете', 'листву', 'участке', 'Избавившись', 'корки', 'убрав', 'образовавшуюся', 'мешанину', 'подальше', 'восстановите', 'снежный', 'покров', 'хорошенько', 'встряхивая', 'снег', 'сыпучим', 'слежавшимся', 'порекомендовал', 'Проливать', 'огород', 'горячей', 'водой', 'продолжил', 'Синьковский', 'ледяной', 'дождь', 'прошел', 'грядками', 'находящимися', 'нормальной', 'толщины', 'снежным', 'покровом', 'площади', 'грядок', 'сломать', 'образовавшийся', 'наст', 'посоветовал', 'наст', 'объяснил', 'агроном', 'разбить', 'фрагменты', 'убрать', 'поверхности', 'черенком', 'лопаты', 'пробить', 'отверстия', 'площади', 'грядок', 'быстро', 'заполнятся', 'снегом', 'должную', 'циркуляцию', 'воздуха', 'образом', 'равно', 'обеспечите', 'заверил', 'специалист', 'Синьковский', 'назвал', 'правила', 'выращивания', 'баклажанов', 'перцев', 'Агроном', 'рекомендовал', 'использовать', 'готовые', 'жирные', 'грунты', 'высоким', 'содержанием', 'органики']\n",
      "Keywords based on semantics: ['Способ', 'спасти', 'посевы', 'ледяного', 'дождя', 'назвал', 'беседе', 'aif.ru', '.', 'словам', ',', 'главный', 'вред', ',', 'причинить', 'ледяной', 'дождь', 'посеянным', 'осенью', 'чесноку', ',', 'моркови', ',', 'свекле', 'посадкам', '—', 'помешать', 'воздухообмену', '.', 'дождь', 'прошел', ',', 'дачник', 'убрал', 'снег', 'посадками', 'участке', 'снега', ',', 'побыстрее', 'ликвидировать', 'ледяную', 'корку', ',', 'образовавшуюся', 'поверхности', ',', 'уточнил', '.', '«', 'Делать', 'грубым', 'механическим', 'путем', ',', 'разбив', 'граблями', '—', 'лучше', ',', 'убираете', 'листву', 'участке', '.', 'Избавившись', 'корки', 'убрав', 'образовавшуюся', 'мешанину', 'подальше', ',', 'восстановите', 'снежный', 'покров', ',', 'хорошенько', 'встряхивая', 'снег', ',', 'сыпучим', ',', 'слежавшимся', '»', ',', '—', 'порекомендовал', '.', 'Проливать', 'огород', 'горячей', 'водой', ',', 'продолжил', 'Синьковский', ',', '.', 'ледяной', 'дождь', 'прошел', 'грядками', ',', 'находящимися', 'нормальной', 'толщины', 'снежным', 'покровом', ',', 'площади', 'грядок', 'сломать', 'образовавшийся', 'наст', ',', 'посоветовал', '.', 'наст', ',', 'объяснил', 'агроном', ',', 'разбить', 'фрагменты', 'убрать', 'поверхности', ',', 'черенком', 'лопаты', 'пробить', 'отверстия', 'площади', 'грядок', '.', '«', ',', 'быстро', 'заполнятся', 'снегом', '—', 'должную', 'циркуляцию', 'воздуха', 'образом', 'равно', 'обеспечите', '»', ',', '—', 'заверил', 'специалист', '.', 'Синьковский', 'назвал', 'правила', 'выращивания', 'баклажанов', 'перцев', '.', 'Агроном', 'рекомендовал', 'использовать', 'готовые', 'жирные', 'грунты', 'высоким', 'содержанием', 'органики', '.']\n"
     ]
    }
   ],
   "source": [
    "import spacy\n",
    "\n",
    "nlp = spacy.load(\"ru_core_news_sm\")\n",
    "\n",
    "text = \"Способ спасти посевы после ледяного дождя он назвал в беседе с aif.ru. По его словам, главный вред, который может причинить ледяной дождь посеянным осенью чесноку, моркови, свекле и другим посадкам — помешать воздухообмену. Если дождь прошел после того, как дачник убрал снег над посадками или если на участке мало снега, то надо побыстрее ликвидировать ледяную корку, образовавшуюся на поверхности, уточнил он. «Делать это надо грубым механическим путем, разбив ее граблями — лучше теми, которыми вы убираете листву на участке. Избавившись от корки и убрав образовавшуюся мешанину подальше, восстановите снежный покров, хорошенько встряхивая снег, чтобы он был сыпучим, а не слежавшимся», — порекомендовал он. Проливать огород горячей водой, продолжил Синьковский, нельзя. Если же ледяной дождь прошел над грядками, находящимися под нормальной толщины снежным покровом, нужно по всей площади грядок сломать образовавшийся наст, посоветовал он. Этот наст, объяснил агроном, нужно разбить на фрагменты и убрать с поверхности, а потом черенком от лопаты пробить отверстия по всей площади грядок. «Ничего, что они быстро заполнятся снегом — должную циркуляцию воздуха вы таким образом все равно обеспечите», — заверил специалист. Ранее Синьковский назвал правила выращивания баклажанов и перцев. Агроном рекомендовал использовать готовые жирные грунты с высоким содержанием органики.\"\n",
    "\n",
    "doc = nlp(text)\n",
    "\n",
    "# Извлекаем ключевые слова на основе частоты\n",
    "keywords_freq = [token.text for token in doc if not token.is_stop and token.is_alpha]\n",
    "\n",
    "# Извлекаем ключевые слова на основе веса встроенных векторов\n",
    "keywords_semantic = [token.text for token in doc if not token.is_stop and token.vector_norm > 0]\n",
    "\n",
    "print(\"Keywords based on frequency:\", keywords_freq)\n",
    "print(\"Keywords based on semantics:\", keywords_semantic)"
   ]
  },
  {
   "cell_type": "code",
   "execution_count": 13,
   "id": "c722f148-120e-45d4-9eb6-9dc2ac8c459c",
   "metadata": {
    "tags": []
   },
   "outputs": [
    {
     "name": "stderr",
     "output_type": "stream",
     "text": [
      "huggingface/tokenizers: The current process just got forked, after parallelism has already been used. Disabling parallelism to avoid deadlocks...\n",
      "To disable this warning, you can either:\n",
      "\t- Avoid using `tokenizers` before the fork if possible\n",
      "\t- Explicitly set the environment variable TOKENIZERS_PARALLELISM=(true | false)\n"
     ]
    },
    {
     "name": "stdout",
     "output_type": "stream",
     "text": [
      "Defaulting to user installation because normal site-packages is not writeable\n",
      "Collecting stop_words\n",
      "  Downloading stop-words-2018.7.23.tar.gz (31 kB)\n",
      "  Preparing metadata (setup.py) ... \u001b[?25ldone\n",
      "\u001b[?25hBuilding wheels for collected packages: stop-words\n",
      "  Building wheel for stop-words (setup.py) ... \u001b[?25ldone\n",
      "\u001b[?25h  Created wheel for stop-words: filename=stop_words-2018.7.23-py3-none-any.whl size=32912 sha256=da33309b1e88cf1260fd7070e31ae3932c9f14f8fbb3986b40237e8bbd01b040\n",
      "  Stored in directory: /home/datadisk/jupyter-admin/.cache/pip/wheels/da/d8/66/395317506a23a9d1d7de433ad6a7d9e6e16aab48cf028a0f60\n",
      "Successfully built stop-words\n",
      "Installing collected packages: stop-words\n",
      "Successfully installed stop-words-2018.7.23\n"
     ]
    }
   ],
   "source": [
    "!pip install stop_words"
   ]
  },
  {
   "cell_type": "code",
   "execution_count": 21,
   "id": "33656be4-2648-4a36-8878-50441ab0f448",
   "metadata": {
    "tags": []
   },
   "outputs": [
    {
     "name": "stderr",
     "output_type": "stream",
     "text": [
      "huggingface/tokenizers: The current process just got forked, after parallelism has already been used. Disabling parallelism to avoid deadlocks...\n",
      "To disable this warning, you can either:\n",
      "\t- Avoid using `tokenizers` before the fork if possible\n",
      "\t- Explicitly set the environment variable TOKENIZERS_PARALLELISM=(true | false)\n"
     ]
    },
    {
     "name": "stdout",
     "output_type": "stream",
     "text": [
      "Defaulting to user installation because normal site-packages is not writeable\n",
      "Collecting pymorphy2\n",
      "  Downloading pymorphy2-0.9.1-py3-none-any.whl (55 kB)\n",
      "     |████████████████████████████████| 55 kB 1.1 MB/s            \n",
      "\u001b[?25hCollecting docopt>=0.6\n",
      "  Downloading docopt-0.6.2.tar.gz (25 kB)\n",
      "  Preparing metadata (setup.py) ... \u001b[?25ldone\n",
      "\u001b[?25hRequirement already satisfied: dawg-python>=0.7.1 in ./.local/lib/python3.9/site-packages (from pymorphy2) (0.7.2)\n",
      "Collecting pymorphy2-dicts-ru<3.0,>=2.4\n",
      "  Downloading pymorphy2_dicts_ru-2.4.417127.4579844-py2.py3-none-any.whl (8.2 MB)\n",
      "     |████████████████████████████████| 8.2 MB 2.3 MB/s            \n",
      "\u001b[?25hBuilding wheels for collected packages: docopt\n",
      "  Building wheel for docopt (setup.py) ... \u001b[?25ldone\n",
      "\u001b[?25h  Created wheel for docopt: filename=docopt-0.6.2-py2.py3-none-any.whl size=13724 sha256=28ca525de65345dc5d178e05ff425b15c12a5ce36b58a392c525c625680dd08e\n",
      "  Stored in directory: /home/datadisk/jupyter-admin/.cache/pip/wheels/70/4a/46/1309fc853b8d395e60bafaf1b6df7845bdd82c95fd59dd8d2b\n",
      "Successfully built docopt\n",
      "Installing collected packages: pymorphy2-dicts-ru, docopt, pymorphy2\n",
      "\u001b[33m  WARNING: The script pymorphy is installed in '/home/datadisk/jupyter-admin/.local/bin' which is not on PATH.\n",
      "  Consider adding this directory to PATH or, if you prefer to suppress this warning, use --no-warn-script-location.\u001b[0m\n",
      "Successfully installed docopt-0.6.2 pymorphy2-0.9.1 pymorphy2-dicts-ru-2.4.417127.4579844\n",
      "Note: you may need to restart the kernel to use updated packages.\n"
     ]
    }
   ],
   "source": [
    "pip install pymorphy2"
   ]
  },
  {
   "cell_type": "code",
   "execution_count": 37,
   "id": "d82fa958-0f09-4f1d-8af3-38363942beb3",
   "metadata": {
    "tags": []
   },
   "outputs": [
    {
     "data": {
      "text/plain": [
       "['Способ',\n",
       " 'спасти',\n",
       " 'посевы',\n",
       " 'ледяного',\n",
       " 'дождя',\n",
       " 'назвал',\n",
       " 'беседе',\n",
       " 'словам',\n",
       " 'главный',\n",
       " 'вред',\n",
       " 'причинить',\n",
       " 'ледяной',\n",
       " 'дождь',\n",
       " 'посеянным',\n",
       " 'осенью',\n",
       " 'чесноку',\n",
       " 'моркови',\n",
       " 'свекле',\n",
       " 'посадкам',\n",
       " 'помешать',\n",
       " 'воздухообмену',\n",
       " 'дождь',\n",
       " 'прошел',\n",
       " 'дачник',\n",
       " 'убрал',\n",
       " 'снег',\n",
       " 'посадками',\n",
       " 'участке',\n",
       " 'снега',\n",
       " 'побыстрее',\n",
       " 'ликвидировать',\n",
       " 'ледяную',\n",
       " 'корку',\n",
       " 'образовавшуюся',\n",
       " 'поверхности',\n",
       " 'уточнил',\n",
       " 'Делать',\n",
       " 'грубым',\n",
       " 'механическим',\n",
       " 'путем',\n",
       " 'разбив',\n",
       " 'граблями',\n",
       " 'убираете',\n",
       " 'листву',\n",
       " 'участке',\n",
       " 'Избавившись',\n",
       " 'корки',\n",
       " 'убрав',\n",
       " 'образовавшуюся',\n",
       " 'мешанину',\n",
       " 'подальше',\n",
       " 'восстановите',\n",
       " 'снежный',\n",
       " 'покров',\n",
       " 'хорошенько',\n",
       " 'встряхивая',\n",
       " 'снег',\n",
       " 'сыпучим',\n",
       " 'слежавшимся',\n",
       " 'порекомендовал',\n",
       " 'Проливать',\n",
       " 'огород',\n",
       " 'горячей',\n",
       " 'водой',\n",
       " 'продолжил',\n",
       " 'Синьковский',\n",
       " 'ледяной',\n",
       " 'дождь',\n",
       " 'прошел',\n",
       " 'грядками',\n",
       " 'находящимися',\n",
       " 'нормальной',\n",
       " 'толщины',\n",
       " 'снежным',\n",
       " 'покровом',\n",
       " 'площади',\n",
       " 'грядок',\n",
       " 'сломать',\n",
       " 'образовавшийся',\n",
       " 'наст',\n",
       " 'посоветовал',\n",
       " 'наст',\n",
       " 'объяснил',\n",
       " 'агроном',\n",
       " 'разбить',\n",
       " 'фрагменты',\n",
       " 'убрать',\n",
       " 'поверхности',\n",
       " 'черенком',\n",
       " 'лопаты',\n",
       " 'пробить',\n",
       " 'отверстия',\n",
       " 'площади',\n",
       " 'грядок',\n",
       " 'быстро',\n",
       " 'заполнятся',\n",
       " 'снегом',\n",
       " 'должную',\n",
       " 'циркуляцию',\n",
       " 'воздуха',\n",
       " 'образом',\n",
       " 'равно',\n",
       " 'обеспечите',\n",
       " 'заверил',\n",
       " 'специалист',\n",
       " 'Синьковский',\n",
       " 'назвал',\n",
       " 'правила',\n",
       " 'выращивания',\n",
       " 'баклажанов',\n",
       " 'перцев',\n",
       " 'Агроном',\n",
       " 'рекомендовал',\n",
       " 'использовать',\n",
       " 'готовые',\n",
       " 'жирные',\n",
       " 'грунты',\n",
       " 'высоким',\n",
       " 'содержанием',\n",
       " 'органики']"
      ]
     },
     "execution_count": 37,
     "metadata": {},
     "output_type": "execute_result"
    }
   ],
   "source": [
    "from stop_words import get_stop_words\n",
    "import pymorphy2\n",
    "morph = pymorphy2.MorphAnalyzer()\n",
    "filtered_words = []\n",
    "for word in keywords_freq:\n",
    "    if word not in get_stop_words('russian'):\n",
    "        outword = word\n",
    "        # try:\n",
    "        #     fdf =  morph.parse(outword)[0]\n",
    "        #     outword = fdf.inflect({'nomn', 'sing'}).word\n",
    "        # except:\n",
    "        #     pass\n",
    "        filtered_words.append(outword)\n",
    "filtered_words"
   ]
  },
  {
   "cell_type": "code",
   "execution_count": 38,
   "id": "93ed5ebd-278a-457b-9d19-9303b530c390",
   "metadata": {
    "tags": []
   },
   "outputs": [
    {
     "data": {
      "text/plain": [
       "[[('способ', 0.9441)],\n",
       " [('спасти', 1.0)],\n",
       " [('посевы', 1.0)],\n",
       " [('ледяного', 1.0)],\n",
       " [('дождя', 1.0)],\n",
       " [('назвал', 1.0)],\n",
       " [('беседе', 1.0)],\n",
       " [('словам', 1.0)],\n",
       " [('главный', 1.0)],\n",
       " [('вред', 1.0)],\n",
       " [('причинить', 1.0)],\n",
       " [('ледяной', 1.0)],\n",
       " [('дождь', 1.0)],\n",
       " [('посеянным', 1.0)],\n",
       " [('осенью', 1.0)],\n",
       " [('чесноку', 1.0)],\n",
       " [('моркови', 1.0)],\n",
       " [('свекле', 1.0)],\n",
       " [('посадкам', 1.0)],\n",
       " [('помешать', 1.0)],\n",
       " [('воздухообмену', 1.0)],\n",
       " [('дождь', 1.0)],\n",
       " [('прошел', 1.0)],\n",
       " [('дачник', 1.0)],\n",
       " [('убрал', 1.0)],\n",
       " [('снег', 1.0)],\n",
       " [('посадками', 1.0)],\n",
       " [('участке', 1.0)],\n",
       " [('снега', 1.0)],\n",
       " [('побыстрее', 1.0)],\n",
       " [('ликвидировать', 1.0)],\n",
       " [('ледяную', 1.0)],\n",
       " [('корку', 1.0)],\n",
       " [('образовавшуюся', 1.0)],\n",
       " [('поверхности', 1.0)],\n",
       " [('уточнил', 1.0)],\n",
       " [('делать', 0.9304)],\n",
       " [('грубым', 1.0)],\n",
       " [('механическим', 1.0)],\n",
       " [('путем', 1.0)],\n",
       " [('разбив', 1.0)],\n",
       " [('граблями', 1.0)],\n",
       " [('убираете', 1.0)],\n",
       " [('листву', 1.0)],\n",
       " [('участке', 1.0)],\n",
       " [('избавившись', 0.969)],\n",
       " [('корки', 1.0)],\n",
       " [('убрав', 1.0)],\n",
       " [('образовавшуюся', 1.0)],\n",
       " [('мешанину', 1.0)],\n",
       " [('подальше', 1.0)],\n",
       " [('восстановите', 1.0)],\n",
       " [('снежный', 1.0)],\n",
       " [('покров', 1.0)],\n",
       " [('хорошенько', 1.0)],\n",
       " [('встряхивая', 1.0)],\n",
       " [('снег', 1.0)],\n",
       " [('сыпучим', 1.0)],\n",
       " [('слежавшимся', 1.0)],\n",
       " [('порекомендовал', 1.0)],\n",
       " [('проливать', 0.9596)],\n",
       " [('огород', 1.0)],\n",
       " [('горячей', 1.0)],\n",
       " [('водой', 1.0)],\n",
       " [('продолжил', 1.0)],\n",
       " [('синьковский', 0.9436)],\n",
       " [('ледяной', 1.0)],\n",
       " [('дождь', 1.0)],\n",
       " [('прошел', 1.0)],\n",
       " [('грядками', 1.0)],\n",
       " [('находящимися', 1.0)],\n",
       " [('нормальной', 1.0)],\n",
       " [('толщины', 1.0)],\n",
       " [('снежным', 1.0)],\n",
       " [('покровом', 1.0)],\n",
       " [('площади', 1.0)],\n",
       " [('грядок', 1.0)],\n",
       " [('сломать', 1.0)],\n",
       " [('образовавшийся', 1.0)],\n",
       " [('наст', 1.0)],\n",
       " [('посоветовал', 1.0)],\n",
       " [('наст', 1.0)],\n",
       " [('объяснил', 1.0)],\n",
       " [('агроном', 1.0)],\n",
       " [('разбить', 1.0)],\n",
       " [('фрагменты', 1.0)],\n",
       " [('убрать', 1.0)],\n",
       " [('поверхности', 1.0)],\n",
       " [('черенком', 1.0)],\n",
       " [('лопаты', 1.0)],\n",
       " [('пробить', 1.0)],\n",
       " [('отверстия', 1.0)],\n",
       " [('площади', 1.0)],\n",
       " [('грядок', 1.0)],\n",
       " [('быстро', 1.0)],\n",
       " [('заполнятся', 1.0)],\n",
       " [('снегом', 1.0)],\n",
       " [('должную', 1.0)],\n",
       " [('циркуляцию', 1.0)],\n",
       " [('воздуха', 1.0)],\n",
       " [('образом', 1.0)],\n",
       " [('равно', 1.0)],\n",
       " [('обеспечите', 1.0)],\n",
       " [('заверил', 1.0)],\n",
       " [('специалист', 1.0)],\n",
       " [('синьковский', 0.9436)],\n",
       " [('назвал', 1.0)],\n",
       " [('правила', 1.0)],\n",
       " [('выращивания', 1.0)],\n",
       " [('баклажанов', 1.0)],\n",
       " [('перцев', 1.0)],\n",
       " [('агроном', 0.9228)],\n",
       " [('рекомендовал', 1.0)],\n",
       " [('использовать', 1.0)],\n",
       " [('готовые', 1.0)],\n",
       " [('жирные', 1.0)],\n",
       " [('грунты', 1.0)],\n",
       " [('высоким', 1.0)],\n",
       " [('содержанием', 1.0)],\n",
       " [('органики', 1.0)]]"
      ]
     },
     "execution_count": 38,
     "metadata": {},
     "output_type": "execute_result"
    }
   ],
   "source": [
    "from keybert import KeyBERT\n",
    "model = KeyBERT(model=\"cointegrated/rubert-tiny2\")\n",
    "model.extract_keywords(\n",
    "    filtered_words,\n",
    "    top_n=10,\n",
    "    keyphrase_ngram_range=(1, 2),\n",
    ")"
   ]
  },
  {
   "cell_type": "code",
   "execution_count": null,
   "id": "67c363f9-736e-429c-89dc-84c2891ad72e",
   "metadata": {},
   "outputs": [],
   "source": []
  },
  {
   "cell_type": "code",
   "execution_count": null,
   "id": "4ca5b911-9712-4324-8983-30a34c501d74",
   "metadata": {},
   "outputs": [],
   "source": []
  }
 ],
 "metadata": {
  "kernelspec": {
   "display_name": "Python 3 (ipykernel)",
   "language": "python",
   "name": "python3"
  },
  "language_info": {
   "codemirror_mode": {
    "name": "ipython",
    "version": 3
   },
   "file_extension": ".py",
   "mimetype": "text/x-python",
   "name": "python",
   "nbconvert_exporter": "python",
   "pygments_lexer": "ipython3",
   "version": "3.9.7"
  }
 },
 "nbformat": 4,
 "nbformat_minor": 5
}
