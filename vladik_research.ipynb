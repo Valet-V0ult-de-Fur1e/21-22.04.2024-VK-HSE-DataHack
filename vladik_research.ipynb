{
 "cells": [
  {
   "cell_type": "code",
   "execution_count": 1,
   "metadata": {
    "id": "7ZAvWN1zAT3i"
   },
   "outputs": [],
   "source": [
    "!cp /content/drive/MyDrive/data.mail.xlsx data.mail.xlsx"
   ]
  },
  {
   "cell_type": "code",
   "execution_count": 1,
   "metadata": {
    "id": "7DyEXH0aSLJR",
    "tags": []
   },
   "outputs": [
    {
     "name": "stdout",
     "output_type": "stream",
     "text": [
      "\u001b[33m  WARNING: The script huggingface-cli is installed in '/home/datadisk/jupyter-admin/.local/bin' which is not on PATH.\n",
      "  Consider adding this directory to PATH or, if you prefer to suppress this warning, use --no-warn-script-location.\u001b[0m\n",
      "\u001b[33m  WARNING: The scripts accelerate, accelerate-config, accelerate-estimate-memory and accelerate-launch are installed in '/home/datadisk/jupyter-admin/.local/bin' which is not on PATH.\n",
      "  Consider adding this directory to PATH or, if you prefer to suppress this warning, use --no-warn-script-location.\u001b[0m\n"
     ]
    }
   ],
   "source": [
    "!pip install accelerate>=0.21.0"
   ]
  },
  {
   "cell_type": "code",
   "execution_count": 2,
   "metadata": {
    "colab": {
     "base_uri": "https://localhost:8080/"
    },
    "id": "-k1gDKvlasRz",
    "outputId": "84b74325-9b42-45a2-e1f2-1841992cd30e",
    "tags": []
   },
   "outputs": [
    {
     "name": "stderr",
     "output_type": "stream",
     "text": [
      "[nltk_data] Downloading package stopwords to /home/datadisk/jupyter-\n",
      "[nltk_data]     admin/nltk_data...\n",
      "[nltk_data]   Package stopwords is already up-to-date!\n"
     ]
    }
   ],
   "source": [
    "import sys\n",
    "import numpy as np\n",
    "import pickle\n",
    "import re\n",
    "from nltk.stem import SnowballStemmer\n",
    "import nltk\n",
    "from nltk.corpus import stopwords\n",
    "from nltk.tokenize import RegexpTokenizer\n",
    "from sklearn.feature_extraction.text import TfidfVectorizer, CountVectorizer\n",
    "from sklearn.linear_model import SGDClassifier\n",
    "from sklearn.pipeline import Pipeline\n",
    "from sklearn.metrics import accuracy_score, f1_score\n",
    "import torch\n",
    "import pandas as pd\n",
    "from sklearn.model_selection import train_test_split\n",
    "from tqdm import tqdm\n",
    "nltk.download(\"stopwords\")\n",
    "tqdm.pandas()"
   ]
  },
  {
   "cell_type": "code",
   "execution_count": 4,
   "metadata": {
    "colab": {
     "base_uri": "https://localhost:8080/",
     "height": 1000
    },
    "id": "oFMBA58D8ld_",
    "outputId": "2493d882-24a0-4726-ec4c-4ed08644a4c1",
    "tags": []
   },
   "outputs": [],
   "source": [
    "excel_file = \"data.mail.xlsx\"\n",
    "all_sheets = pd.read_excel(excel_file, sheet_name=None)\n",
    "sheets = all_sheets.keys()\n",
    "for sheet_name in sheets:\n",
    "    sheet = pd.read_excel(excel_file, sheet_name=sheet_name)\n",
    "    sheet.to_csv(\"%s.csv\" % sheet_name, index=False)"
   ]
  },
  {
   "cell_type": "code",
   "execution_count": 5,
   "metadata": {
    "id": "VfGyWbee1yJu"
   },
   "outputs": [],
   "source": [
    "stemmer = SnowballStemmer(\"russian\", ignore_stopwords=True)\n",
    "tokenizer = RegexpTokenizer(r'\\w+')\n",
    "stop = set(stopwords.words('russian'))\n",
    "\n",
    "def clear_text(text):\n",
    "    return ' '.join(stemmer.stem(x) for x in tokenizer.tokenize(text.lower()) if x not in stop)"
   ]
  },
  {
   "cell_type": "code",
   "execution_count": 7,
   "metadata": {
    "tags": []
   },
   "outputs": [
    {
     "name": "stderr",
     "output_type": "stream",
     "text": [
      "[nltk_data] Downloading package punkt to /home/datadisk/jupyter-\n",
      "[nltk_data]     admin/nltk_data...\n",
      "[nltk_data]   Unzipping tokenizers/punkt.zip.\n"
     ]
    },
    {
     "data": {
      "text/plain": [
       "True"
      ]
     },
     "execution_count": 7,
     "metadata": {},
     "output_type": "execute_result"
    }
   ],
   "source": [
    "nltk.download('punkt')"
   ]
  },
  {
   "cell_type": "code",
   "execution_count": 8,
   "metadata": {
    "colab": {
     "base_uri": "https://localhost:8080/"
    },
    "id": "D9kk3B2OI5y9",
    "outputId": "e2a8f5b0-6215-4ec2-f271-2019aab73fd5",
    "tags": []
   },
   "outputs": [
    {
     "name": "stdout",
     "output_type": "stream",
     "text": [
      "['лемматизирова', 'форм', 'слов', 'лист', 'эт', 'лист']\n"
     ]
    }
   ],
   "source": []
  },
  {
   "cell_type": "code",
   "execution_count": 9,
   "metadata": {
    "colab": {
     "base_uri": "https://localhost:8080/",
     "height": 1000
    },
    "id": "N5z1hZsCJ5Zx",
    "outputId": "15826b68-7b55-43ef-b91a-d9aaa73d096e",
    "tags": []
   },
   "outputs": [
    {
     "data": {
      "text/html": [
       "<div>\n",
       "<style scoped>\n",
       "    .dataframe tbody tr th:only-of-type {\n",
       "        vertical-align: middle;\n",
       "    }\n",
       "\n",
       "    .dataframe tbody tr th {\n",
       "        vertical-align: top;\n",
       "    }\n",
       "\n",
       "    .dataframe thead th {\n",
       "        text-align: right;\n",
       "    }\n",
       "</style>\n",
       "<table border=\"1\" class=\"dataframe\">\n",
       "  <thead>\n",
       "    <tr style=\"text-align: right;\">\n",
       "      <th></th>\n",
       "      <th>URL</th>\n",
       "      <th>Title</th>\n",
       "      <th>Description</th>\n",
       "      <th>Article Text</th>\n",
       "      <th>Keywords</th>\n",
       "    </tr>\n",
       "  </thead>\n",
       "  <tbody>\n",
       "    <tr>\n",
       "      <th>0</th>\n",
       "      <td>https://deti.mail.ru/article/kostyumy-na-novyj...</td>\n",
       "      <td>Костюмы на Новый год для детей своими руками</td>\n",
       "      <td>Сделать новогодний наряд для сына или дочки св...</td>\n",
       "      <td>Костюм Снежинки В качестве основы для костюма ...</td>\n",
       "      <td>Дети 3-7 лет</td>\n",
       "    </tr>\n",
       "    <tr>\n",
       "      <th>1</th>\n",
       "      <td>https://deti.mail.ru/article/esli-rebenok-veri...</td>\n",
       "      <td>Как создают детское новогоднее шоу: интервью с...</td>\n",
       "      <td>Режиссер, сценарист и главный новогодний волше...</td>\n",
       "      <td>Если ребенок верит в сказку хотя бы до десяти ...</td>\n",
       "      <td>Семья</td>\n",
       "    </tr>\n",
       "    <tr>\n",
       "      <th>2</th>\n",
       "      <td>https://deti.mail.ru/article/gid-po-detskim-no...</td>\n",
       "      <td>30 крутых детских новогодних подарков на любой...</td>\n",
       "      <td>Думаете о том, что подарить ребенку на Новый г...</td>\n",
       "      <td>Подарки до 1 000 рублей Наборы для создания сн...</td>\n",
       "      <td>Семья</td>\n",
       "    </tr>\n",
       "    <tr>\n",
       "      <th>3</th>\n",
       "      <td>https://deti.mail.ru/article/chto-delat-esli-s...</td>\n",
       "      <td>Что делать, если с ГВ не сложилось: 4 совета</td>\n",
       "      <td>Лучшая еда для младенца – это, конечно, мамино...</td>\n",
       "      <td>Чаще практикуйте контакт кожа к коже Период но...</td>\n",
       "      <td>1 месяц - 6 месяцев</td>\n",
       "    </tr>\n",
       "    <tr>\n",
       "      <th>4</th>\n",
       "      <td>https://deti.mail.ru/article/novyj-god-blizko-...</td>\n",
       "      <td>Новый год близко: как звезды с детьми наряжают...</td>\n",
       "      <td>Главный атрибут праздника уже появился в домах...</td>\n",
       "      <td>На календаре почти середина декабря, и знамени...</td>\n",
       "      <td>Семья</td>\n",
       "    </tr>\n",
       "    <tr>\n",
       "      <th>...</th>\n",
       "      <td>...</td>\n",
       "      <td>...</td>\n",
       "      <td>...</td>\n",
       "      <td>...</td>\n",
       "      <td>...</td>\n",
       "    </tr>\n",
       "    <tr>\n",
       "      <th>5962</th>\n",
       "      <td>https://deti.mail.ru/article/uslysh/</td>\n",
       "      <td>\"Услышь себя\". Тест для родителей</td>\n",
       "      <td>Часто ли родители слышат самих себя? Какова сп...</td>\n",
       "      <td>От вас требуется лишь максимально честно отмет...</td>\n",
       "      <td>Дети 3-7 лет</td>\n",
       "    </tr>\n",
       "    <tr>\n",
       "      <th>5963</th>\n",
       "      <td>https://deti.mail.ru/article/disp/</td>\n",
       "      <td>Что такое диспансеризация и зачем она нужна?</td>\n",
       "      <td>Диспансеризация - это метод медицинского обслу...</td>\n",
       "      <td>Самое главное при диспансеризации во время бер...</td>\n",
       "      <td>Беременность</td>\n",
       "    </tr>\n",
       "    <tr>\n",
       "      <th>5964</th>\n",
       "      <td>https://deti.mail.ru/article/lor/</td>\n",
       "      <td>Консультация у отоларинголога в период беремен...</td>\n",
       "      <td>У будущих мам часто возникает вопрос - с какой...</td>\n",
       "      <td>В настоящее время у 65-70% обследованных берем...</td>\n",
       "      <td>Беременность</td>\n",
       "    </tr>\n",
       "    <tr>\n",
       "      <th>5965</th>\n",
       "      <td>https://deti.mail.ru/article/test__nelepicy__d...</td>\n",
       "      <td>Тест \"Нелепицы\". Для детей 3-6 лет</td>\n",
       "      <td>Образ мышления дошкольников представлен образа...</td>\n",
       "      <td>Для тестирования вам понадобится заранее подго...</td>\n",
       "      <td>Дети 3-7 лет</td>\n",
       "    </tr>\n",
       "    <tr>\n",
       "      <th>5966</th>\n",
       "      <td>https://deti.mail.ru/article/test__domik__dlya...</td>\n",
       "      <td>Тест \"Домик\". Для детей 5-10 лет</td>\n",
       "      <td>Сравнительно новая методика, разработанная пси...</td>\n",
       "      <td>Стимульный материал включает в себя: шаблон (м...</td>\n",
       "      <td>Дети 3-7 лет</td>\n",
       "    </tr>\n",
       "  </tbody>\n",
       "</table>\n",
       "<p>5967 rows × 5 columns</p>\n",
       "</div>"
      ],
      "text/plain": [
       "                                                    URL  \\\n",
       "0     https://deti.mail.ru/article/kostyumy-na-novyj...   \n",
       "1     https://deti.mail.ru/article/esli-rebenok-veri...   \n",
       "2     https://deti.mail.ru/article/gid-po-detskim-no...   \n",
       "3     https://deti.mail.ru/article/chto-delat-esli-s...   \n",
       "4     https://deti.mail.ru/article/novyj-god-blizko-...   \n",
       "...                                                 ...   \n",
       "5962               https://deti.mail.ru/article/uslysh/   \n",
       "5963                 https://deti.mail.ru/article/disp/   \n",
       "5964                  https://deti.mail.ru/article/lor/   \n",
       "5965  https://deti.mail.ru/article/test__nelepicy__d...   \n",
       "5966  https://deti.mail.ru/article/test__domik__dlya...   \n",
       "\n",
       "                                                  Title  \\\n",
       "0          Костюмы на Новый год для детей своими руками   \n",
       "1     Как создают детское новогоднее шоу: интервью с...   \n",
       "2     30 крутых детских новогодних подарков на любой...   \n",
       "3          Что делать, если с ГВ не сложилось: 4 совета   \n",
       "4     Новый год близко: как звезды с детьми наряжают...   \n",
       "...                                                 ...   \n",
       "5962                  \"Услышь себя\". Тест для родителей   \n",
       "5963       Что такое диспансеризация и зачем она нужна?   \n",
       "5964  Консультация у отоларинголога в период беремен...   \n",
       "5965                 Тест \"Нелепицы\". Для детей 3-6 лет   \n",
       "5966                   Тест \"Домик\". Для детей 5-10 лет   \n",
       "\n",
       "                                            Description  \\\n",
       "0     Сделать новогодний наряд для сына или дочки св...   \n",
       "1     Режиссер, сценарист и главный новогодний волше...   \n",
       "2     Думаете о том, что подарить ребенку на Новый г...   \n",
       "3     Лучшая еда для младенца – это, конечно, мамино...   \n",
       "4     Главный атрибут праздника уже появился в домах...   \n",
       "...                                                 ...   \n",
       "5962  Часто ли родители слышат самих себя? Какова сп...   \n",
       "5963  Диспансеризация - это метод медицинского обслу...   \n",
       "5964  У будущих мам часто возникает вопрос - с какой...   \n",
       "5965  Образ мышления дошкольников представлен образа...   \n",
       "5966  Сравнительно новая методика, разработанная пси...   \n",
       "\n",
       "                                           Article Text             Keywords  \n",
       "0     Костюм Снежинки В качестве основы для костюма ...         Дети 3-7 лет  \n",
       "1     Если ребенок верит в сказку хотя бы до десяти ...                Семья  \n",
       "2     Подарки до 1 000 рублей Наборы для создания сн...                Семья  \n",
       "3     Чаще практикуйте контакт кожа к коже Период но...  1 месяц - 6 месяцев  \n",
       "4     На календаре почти середина декабря, и знамени...                Семья  \n",
       "...                                                 ...                  ...  \n",
       "5962  От вас требуется лишь максимально честно отмет...         Дети 3-7 лет  \n",
       "5963  Самое главное при диспансеризации во время бер...         Беременность  \n",
       "5964  В настоящее время у 65-70% обследованных берем...         Беременность  \n",
       "5965  Для тестирования вам понадобится заранее подго...         Дети 3-7 лет  \n",
       "5966  Стимульный материал включает в себя: шаблон (м...         Дети 3-7 лет  \n",
       "\n",
       "[5967 rows x 5 columns]"
      ]
     },
     "execution_count": 9,
     "metadata": {},
     "output_type": "execute_result"
    }
   ],
   "source": [
    "df = pd.read_csv(\"deti.mail.csv\")\n",
    "df"
   ]
  },
  {
   "cell_type": "code",
   "execution_count": 8,
   "metadata": {
    "colab": {
     "base_uri": "https://localhost:8080/"
    },
    "id": "fO0-JYesKztB",
    "outputId": "34602547-d6cb-4afc-d9c3-8d27bda2ad91"
   },
   "outputs": [
    {
     "name": "stderr",
     "output_type": "stream",
     "text": [
      "100%|██████████| 5967/5967 [03:06<00:00, 31.94it/s]\n"
     ]
    }
   ],
   "source": [
    "df[\"text\"] = df[\"Article Text\"].progress_apply(clear_text)"
   ]
  },
  {
   "cell_type": "code",
   "execution_count": 10,
   "metadata": {
    "id": "zHxum1-LLbJZ",
    "tags": []
   },
   "outputs": [],
   "source": [
    "df[\"labels\"], indexer = df[\"Keywords\"].factorize()"
   ]
  },
  {
   "cell_type": "code",
   "execution_count": 18,
   "metadata": {
    "id": "2MTw9nhfUWsi"
   },
   "outputs": [],
   "source": [
    "text_clf = Pipeline([\n",
    "    ('tfidf', CofVectorizer()),\n",
    "    ('clf', SGDClassifier(loss='hinge')),\n",
    "])"
   ]
  },
  {
   "cell_type": "code",
   "execution_count": 13,
   "metadata": {
    "tags": []
   },
   "outputs": [
    {
     "name": "stderr",
     "output_type": "stream",
     "text": [
      "[nltk_data] Downloading package punkt to /home/datadisk/jupyter-\n",
      "[nltk_data]     admin/nltk_data...\n",
      "[nltk_data]   Package punkt is already up-to-date!\n"
     ]
    },
    {
     "name": "stdout",
     "output_type": "stream",
     "text": [
      "Accuracy: 0.48408710217755446\n"
     ]
    }
   ],
   "source": [
    "import nltk\n",
    "from nltk.tokenize import word_tokenize\n",
    "from sklearn.feature_extraction.text import CountVectorizer\n",
    "from sklearn.naive_bayes import MultinomialNB\n",
    "from sklearn.model_selection import train_test_split\n",
    "from sklearn.metrics import accuracy_score\n",
    "\n",
    "nltk.download('punkt')\n",
    "\n",
    "# Пример данных\n",
    "texts = df[\"Article Text\"]\n",
    "labels = df[\"labels\"]  # 1 - позитивный, 0 - негативный\n",
    "\n",
    "# Токенизация\n",
    "tokens = [word_tokenize(text) for text in texts]\n",
    "\n",
    "# Создание BoW модели\n",
    "vectorizer = CountVectorizer()\n",
    "bow = vectorizer.fit_transform([' '.join(token) for token in tokens])\n",
    "\n",
    "# Разделение данных на обучающую и тестовую выборку\n",
    "X_train, X_test, y_train, y_test = train_test_split(bow, labels, test_size=0.1)\n",
    "\n",
    "# Обучение классификатора\n",
    "classifier = MultinomialNB()\n",
    "classifier.fit(X_train, y_train)\n",
    "\n",
    "# Оценка классификатора\n",
    "predictions = classifier.predict(X_test)\n",
    "print(\"Accuracy:\", accuracy_score(y_test, predictions))"
   ]
  },
  {
   "cell_type": "code",
   "execution_count": 14,
   "metadata": {
    "tags": []
   },
   "outputs": [
    {
     "name": "stdout",
     "output_type": "stream",
     "text": [
      "f1:  0.23753053552473347\n"
     ]
    }
   ],
   "source": [
    "predictions = classifier.predict(X_test)\n",
    "print(\"f1: \", f1_score(predictions, y_test, average=\"macro\"))"
   ]
  },
  {
   "cell_type": "code",
   "execution_count": 19,
   "metadata": {
    "id": "I48jD1OzUY_A"
   },
   "outputs": [],
   "source": [
    "train_x, test_x, train_y, test_y = train_test_split(df[\"text\"], df[\"labels\"], test_size=0.1)"
   ]
  },
  {
   "cell_type": "markdown",
   "metadata": {
    "id": "nEqGrjiUI-ur"
   },
   "source": [
    "###Test"
   ]
  },
  {
   "cell_type": "code",
   "execution_count": 33,
   "metadata": {
    "id": "RfVGwO4D1UFR"
   },
   "outputs": [],
   "source": [
    "text_clf = Pipeline([\n",
    "    ('tfidf', CountVectorizer()),\n",
    "    ('clf', SGDClassifier(loss='hinge')),\n",
    "])"
   ]
  },
  {
   "cell_type": "code",
   "execution_count": 34,
   "metadata": {
    "colab": {
     "base_uri": "https://localhost:8080/",
     "height": 125
    },
    "id": "xI0RTTlC4EhO",
    "outputId": "906fd03a-d020-4525-cbdf-f7c27bab1e82"
   },
   "outputs": [
    {
     "data": {
      "text/html": [
       "<style>#sk-container-id-2 {color: black;background-color: white;}#sk-container-id-2 pre{padding: 0;}#sk-container-id-2 div.sk-toggleable {background-color: white;}#sk-container-id-2 label.sk-toggleable__label {cursor: pointer;display: block;width: 100%;margin-bottom: 0;padding: 0.3em;box-sizing: border-box;text-align: center;}#sk-container-id-2 label.sk-toggleable__label-arrow:before {content: \"▸\";float: left;margin-right: 0.25em;color: #696969;}#sk-container-id-2 label.sk-toggleable__label-arrow:hover:before {color: black;}#sk-container-id-2 div.sk-estimator:hover label.sk-toggleable__label-arrow:before {color: black;}#sk-container-id-2 div.sk-toggleable__content {max-height: 0;max-width: 0;overflow: hidden;text-align: left;background-color: #f0f8ff;}#sk-container-id-2 div.sk-toggleable__content pre {margin: 0.2em;color: black;border-radius: 0.25em;background-color: #f0f8ff;}#sk-container-id-2 input.sk-toggleable__control:checked~div.sk-toggleable__content {max-height: 200px;max-width: 100%;overflow: auto;}#sk-container-id-2 input.sk-toggleable__control:checked~label.sk-toggleable__label-arrow:before {content: \"▾\";}#sk-container-id-2 div.sk-estimator input.sk-toggleable__control:checked~label.sk-toggleable__label {background-color: #d4ebff;}#sk-container-id-2 div.sk-label input.sk-toggleable__control:checked~label.sk-toggleable__label {background-color: #d4ebff;}#sk-container-id-2 input.sk-hidden--visually {border: 0;clip: rect(1px 1px 1px 1px);clip: rect(1px, 1px, 1px, 1px);height: 1px;margin: -1px;overflow: hidden;padding: 0;position: absolute;width: 1px;}#sk-container-id-2 div.sk-estimator {font-family: monospace;background-color: #f0f8ff;border: 1px dotted black;border-radius: 0.25em;box-sizing: border-box;margin-bottom: 0.5em;}#sk-container-id-2 div.sk-estimator:hover {background-color: #d4ebff;}#sk-container-id-2 div.sk-parallel-item::after {content: \"\";width: 100%;border-bottom: 1px solid gray;flex-grow: 1;}#sk-container-id-2 div.sk-label:hover label.sk-toggleable__label {background-color: #d4ebff;}#sk-container-id-2 div.sk-serial::before {content: \"\";position: absolute;border-left: 1px solid gray;box-sizing: border-box;top: 0;bottom: 0;left: 50%;z-index: 0;}#sk-container-id-2 div.sk-serial {display: flex;flex-direction: column;align-items: center;background-color: white;padding-right: 0.2em;padding-left: 0.2em;position: relative;}#sk-container-id-2 div.sk-item {position: relative;z-index: 1;}#sk-container-id-2 div.sk-parallel {display: flex;align-items: stretch;justify-content: center;background-color: white;position: relative;}#sk-container-id-2 div.sk-item::before, #sk-container-id-2 div.sk-parallel-item::before {content: \"\";position: absolute;border-left: 1px solid gray;box-sizing: border-box;top: 0;bottom: 0;left: 50%;z-index: -1;}#sk-container-id-2 div.sk-parallel-item {display: flex;flex-direction: column;z-index: 1;position: relative;background-color: white;}#sk-container-id-2 div.sk-parallel-item:first-child::after {align-self: flex-end;width: 50%;}#sk-container-id-2 div.sk-parallel-item:last-child::after {align-self: flex-start;width: 50%;}#sk-container-id-2 div.sk-parallel-item:only-child::after {width: 0;}#sk-container-id-2 div.sk-dashed-wrapped {border: 1px dashed gray;margin: 0 0.4em 0.5em 0.4em;box-sizing: border-box;padding-bottom: 0.4em;background-color: white;}#sk-container-id-2 div.sk-label label {font-family: monospace;font-weight: bold;display: inline-block;line-height: 1.2em;}#sk-container-id-2 div.sk-label-container {text-align: center;}#sk-container-id-2 div.sk-container {/* jupyter's `normalize.less` sets `[hidden] { display: none; }` but bootstrap.min.css set `[hidden] { display: none !important; }` so we also need the `!important` here to be able to override the default hidden behavior on the sphinx rendered scikit-learn.org. See: https://github.com/scikit-learn/scikit-learn/issues/21755 */display: inline-block !important;position: relative;}#sk-container-id-2 div.sk-text-repr-fallback {display: none;}</style><div id=\"sk-container-id-2\" class=\"sk-top-container\"><div class=\"sk-text-repr-fallback\"><pre>Pipeline(steps=[(&#x27;tfidf&#x27;, CountVectorizer()), (&#x27;clf&#x27;, SGDClassifier())])</pre><b>In a Jupyter environment, please rerun this cell to show the HTML representation or trust the notebook. <br />On GitHub, the HTML representation is unable to render, please try loading this page with nbviewer.org.</b></div><div class=\"sk-container\" hidden><div class=\"sk-item sk-dashed-wrapped\"><div class=\"sk-label-container\"><div class=\"sk-label sk-toggleable\"><input class=\"sk-toggleable__control sk-hidden--visually\" id=\"sk-estimator-id-4\" type=\"checkbox\" ><label for=\"sk-estimator-id-4\" class=\"sk-toggleable__label sk-toggleable__label-arrow\">Pipeline</label><div class=\"sk-toggleable__content\"><pre>Pipeline(steps=[(&#x27;tfidf&#x27;, CountVectorizer()), (&#x27;clf&#x27;, SGDClassifier())])</pre></div></div></div><div class=\"sk-serial\"><div class=\"sk-item\"><div class=\"sk-estimator sk-toggleable\"><input class=\"sk-toggleable__control sk-hidden--visually\" id=\"sk-estimator-id-5\" type=\"checkbox\" ><label for=\"sk-estimator-id-5\" class=\"sk-toggleable__label sk-toggleable__label-arrow\">CountVectorizer</label><div class=\"sk-toggleable__content\"><pre>CountVectorizer()</pre></div></div></div><div class=\"sk-item\"><div class=\"sk-estimator sk-toggleable\"><input class=\"sk-toggleable__control sk-hidden--visually\" id=\"sk-estimator-id-6\" type=\"checkbox\" ><label for=\"sk-estimator-id-6\" class=\"sk-toggleable__label sk-toggleable__label-arrow\">SGDClassifier</label><div class=\"sk-toggleable__content\"><pre>SGDClassifier()</pre></div></div></div></div></div></div></div>"
      ],
      "text/plain": [
       "Pipeline(steps=[('tfidf', CountVectorizer()), ('clf', SGDClassifier())])"
      ]
     },
     "execution_count": 34,
     "metadata": {},
     "output_type": "execute_result"
    }
   ],
   "source": [
    "text_clf.fit(train_x, train_y)"
   ]
  },
  {
   "cell_type": "code",
   "execution_count": 35,
   "metadata": {
    "id": "EjLgvCtMU0YI"
   },
   "outputs": [],
   "source": [
    "pred = text_clf.predict(test_x)"
   ]
  },
  {
   "cell_type": "code",
   "execution_count": 39,
   "metadata": {
    "colab": {
     "base_uri": "https://localhost:8080/"
    },
    "id": "cE3Q0CJWVN9M",
    "outputId": "cda8ed1d-87e2-4dc2-e5b3-62152ed173f4"
   },
   "outputs": [
    {
     "data": {
      "text/plain": [
       "0.4760804087899595"
      ]
     },
     "execution_count": 39,
     "metadata": {},
     "output_type": "execute_result"
    }
   ],
   "source": [
    "f1_score(pred, test_y, average=\"macro\")"
   ]
  },
  {
   "cell_type": "code",
   "execution_count": null,
   "metadata": {},
   "outputs": [],
   "source": []
  },
  {
   "cell_type": "code",
   "execution_count": null,
   "metadata": {},
   "outputs": [],
   "source": [
    "import re\n",
    "import nltk\n",
    "import numpy as np\n",
    "import pandas as pd\n",
    "import seaborn as sns\n",
    "import matplotlib.pyplot as plt\n",
    "from nltk.corpus import stopwords\n",
    "nltk.download('stopwords')\n",
    "from nltk.stem import PorterStemmer\n",
    "from nltk.stem import WordNetLemmatizer\n",
    "nltk.download('wordnet')\n",
    "from nltk.tokenize import word_tokenize\n",
    "from nltk.tokenize import sent_tokenize\n",
    "nltk.download('punkt')\n",
    "from wordcloud import WordCloud\n",
    "from sklearn.model_selection import train_test_split\n",
    "from sklearn.feature_extraction.text import CountVectorizer\n",
    "from sklearn.feature_extraction.text import TfidfVectorizer\n",
    "from sklearn.metrics import accuracy_score\n",
    "from sklearn.metrics import confusion_matrix\n",
    "from sklearn.metrics import classification_report\n",
    "from sklearn.metrics import make_scorer, roc_curve, roc_auc_score\n",
    "from sklearn.metrics import precision_recall_fscore_support as score\n",
    "from sklearn.metrics.pairwise import cosine_similarity\n",
    "from sklearn.multiclass import OneVsRestClassifier\n",
    "from sklearn.linear_model import LogisticRegression\n",
    "from sklearn.svm import SVC, LinearSVC\n",
    "from sklearn.tree import DecisionTreeClassifier\n",
    "from sklearn.ensemble import RandomForestClassifier\n",
    "from sklearn.neighbors import KNeighborsClassifier\n",
    "from sklearn.naive_bayes import GaussianNB,MultinomialNB,BernoulliNB"
   ]
  },
  {
   "cell_type": "code",
   "execution_count": null,
   "metadata": {
    "tags": []
   },
   "outputs": [],
   "source": [
    "!pip install gradio\n",
    "!pip install pandas\n",
    "!pip install langchain\n",
    "!pip install openai\n",
    "!pip install langchain_community\n",
    "!pip install langchain_openai"
   ]
  },
  {
   "cell_type": "code",
   "execution_count": null,
   "metadata": {
    "tags": []
   },
   "outputs": [],
   "source": [
    "import gradio as gr\n",
    "import pandas as pd\n",
    "\n",
    "from langchain_core.prompts import ChatPromptTemplate\n",
    "from langchain_core.messages import HumanMessage, SystemMessage\n",
    "from langchain_openai import ChatOpenAI, AzureChatOpenAI\n",
    "from langchain_core.output_parsers import JsonOutputParser\n",
    "\n",
    "base_url = \"http://saiga.vkcloud.eazify.net:8000/v1\"\n",
    "# base_url = \"http://hackllm.vkcloud.eazify.net:8000/v1\"\n",
    "# base_url = \"http://shwars.vkcloud.eazify.net:8000/v1\"\n",
    "\n",
    "chat = ChatOpenAI(api_key=\"<key>\",\n",
    "                model = \"tgi\",\n",
    "                openai_api_base = base_url,\n",
    "                temperature=0.2)\n",
    "\n",
    "instruct = \"\"\"\n",
    "Прочитай список ключевых слов статьи:\n",
    "Твой сотрудник, говорит, что эта статья категории \"\", но он может ошибаться. Напиши только категорию статьи в именительном падеже.\"\n",
    "\"\"\"\n",
    "\n",
    "chat_template = ChatPromptTemplate.from_messages(\n",
    "    [\n",
    "        (\"system\", \"Ты редактор сайта новостей, твоя задача проверять корректность категории новостей по ключевым словам. На сайте есть категории: 'Общество', 'Экономика', 'Кино и телевидение', 'Люди','Наука и технологии', 'Транспорт', 'Погода', 'Рецепты', 'Мода', 'Дети', 'Дом', 'Питомцы', 'Здоровье'. Выбирать можно только их. \"),\n",
    "        (\"human\", instruct),\n",
    "    ]\n",
    ")\n",
    "\n",
    "\n",
    "def process(text):\n",
    "    res = chat.invoke(chat_template.format_messages(review=text))\n",
    "    try:\n",
    "        js = parser.invoke(res)\n",
    "    except:\n",
    "        js = { \"positive\" : [] , \"negative\" : [] }\n",
    "\n",
    "    mx = max(len(js['positive']),len(js['negative']))\n",
    "    while len(js['positive'])<mx:\n",
    "        js['positive'].append('')\n",
    "    while len(js['negative'])<mx:\n",
    "        js['negative'].append('')\n",
    "\n",
    "    return pd.DataFrame(js)\n",
    "\n",
    "demo = gr.Interface(\n",
    "    fn=process,\n",
    "    inputs=[\"text\"],\n",
    "    outputs=[\"dataframe\"],\n",
    ")\n",
    "\n",
    "demo.launch(server_name=\"0.0.0.0\",server_port=8000)"
   ]
  },
  {
   "cell_type": "code",
   "execution_count": null,
   "metadata": {
    "tags": []
   },
   "outputs": [],
   "source": [
    "from gradio_client import Client\n",
    "\n",
    "req = \"\"\"Ты редактор сайта новостей. На сайте есть категории: 'Общество', 'Экономика', 'Кино и телевидение', \n",
    "'Люди','Наука и технологии', 'Транспорт', 'Погода', 'Рецепты', 'Мода', 'Дети', 'Дом', 'Питомцы', 'Здоровье'.\n",
    "Выбирать можно только их.\n",
    "Прочитай список ключевых слов статьи: последний, минута, отплытие, задокументированный, путешественник.\n",
    "Твой сотрудник, говорит, что эта статья категории \"Общество\", но он может ошибаться. Напиши только категорию статьи в именительном падеже.\"\"\"\n",
    "\n",
    "client = Client(\"https://ilyagusev-saiga2-13b-gguf.hf.space/--replicas/b1eq7/\")\n",
    "result = client.predict(\n",
    "    [[req ,None]],  # Tuple[str | Dict(file: filepath, alt_text: str | None) | None, str | Dict(file: filepath, alt_text: str | None) | None]  in 'Диалог' Chatbot component\n",
    "    \"Hello!!\",  # str  in 'Системный промпт' Textbox component\n",
    "    0,  # float (numeric value between 0.0 and 1.0) in 'Top-p' Slider component\n",
    "    10,  # float (numeric value between 10 and 100) in 'Top-k' Slider component\n",
    "    0,  # float (numeric value between 0.0 and 2.0) in 'Температура' Slider component\n",
    "    api_name=\"/bot\"\n",
    ")\n",
    "print(result[-1][-1])\n"
   ]
  },
  {
   "cell_type": "code",
   "execution_count": 11,
   "metadata": {
    "tags": []
   },
   "outputs": [
    {
     "name": "stdout",
     "output_type": "stream",
     "text": [
      "Defaulting to user installation because normal site-packages is not writeable\n",
      "Requirement already satisfied: typing_extensions in /opt/conda/lib/python3.9/site-packages (4.10.0)\n"
     ]
    }
   ],
   "source": [
    "!pip install typing_extensions"
   ]
  },
  {
   "cell_type": "code",
   "execution_count": 15,
   "metadata": {
    "tags": []
   },
   "outputs": [
    {
     "ename": "AttributeError",
     "evalue": "module 'gradio_client' has no attribute 'Interface'",
     "output_type": "error",
     "traceback": [
      "\u001b[0;31m---------------------------------------------------------------------------\u001b[0m",
      "\u001b[0;31mAttributeError\u001b[0m                            Traceback (most recent call last)",
      "Cell \u001b[0;32mIn[15], line 46\u001b[0m\n\u001b[1;32m     41\u001b[0m         js \u001b[38;5;241m=\u001b[39m { \u001b[38;5;124m\"\u001b[39m\u001b[38;5;124mkeywors\u001b[39m\u001b[38;5;124m\"\u001b[39m: \u001b[38;5;124m\"\u001b[39m\u001b[38;5;124m\"\u001b[39m }\n\u001b[1;32m     43\u001b[0m     \u001b[38;5;28;01mreturn\u001b[39;00m \u001b[38;5;28mstr\u001b[39m(js\u001b[38;5;241m.\u001b[39mget(\u001b[38;5;124m\"\u001b[39m\u001b[38;5;124mkeywors\u001b[39m\u001b[38;5;124m\"\u001b[39m, \u001b[38;5;124m\"\u001b[39m\u001b[38;5;124m\"\u001b[39m))\n\u001b[0;32m---> 46\u001b[0m demo \u001b[38;5;241m=\u001b[39m \u001b[43mgr\u001b[49m\u001b[38;5;241;43m.\u001b[39;49m\u001b[43mInterface\u001b[49m(\n\u001b[1;32m     47\u001b[0m     fn\u001b[38;5;241m=\u001b[39mprocess,\n\u001b[1;32m     48\u001b[0m     inputs\u001b[38;5;241m=\u001b[39m[\u001b[38;5;124m\"\u001b[39m\u001b[38;5;124mtext\u001b[39m\u001b[38;5;124m\"\u001b[39m],\n\u001b[1;32m     49\u001b[0m     outputs\u001b[38;5;241m=\u001b[39m[\u001b[38;5;124m\"\u001b[39m\u001b[38;5;124mtext\u001b[39m\u001b[38;5;124m\"\u001b[39m],\n\u001b[1;32m     50\u001b[0m )\n\u001b[1;32m     52\u001b[0m demo\u001b[38;5;241m.\u001b[39mlaunch(server_name\u001b[38;5;241m=\u001b[39m\u001b[38;5;124m\"\u001b[39m\u001b[38;5;124mlocalhost\u001b[39m\u001b[38;5;124m\"\u001b[39m, server_port\u001b[38;5;241m=\u001b[39m\u001b[38;5;241m8000\u001b[39m)\n",
      "\u001b[0;31mAttributeError\u001b[0m: module 'gradio_client' has no attribute 'Interface'"
     ]
    }
   ],
   "source": [
    "import gradio_client as gr\n",
    "import pandas as pd\n",
    "\n",
    "from langchain_core.prompts import ChatPromptTemplate\n",
    "from langchain_core.messages import HumanMessage, SystemMessage\n",
    "from langchain_openai import ChatOpenAI, AzureChatOpenAI\n",
    "from langchain_core.output_parsers import JsonOutputParser\n",
    "\n",
    "base_url = \"http://saiga.vkcloud.eazify.net:8000/v1\"\n",
    "# base_url = \"http://hackllm.vkcloud.eazify.net:8000/v1\"\n",
    "# base_url = \"http://shwars.vkcloud.eazify.net:8000/v1\"\n",
    "\n",
    "chat = ChatOpenAI(api_key=\"<key>\",\n",
    "                model=\"tgi\",\n",
    "                openai_api_base=base_url,\n",
    "                temperature=0.2)\n",
    "\n",
    "instruct = \"\"\"\n",
    "Прочитай приведённый ниже в тройных обратных кавычках тексь и верни все ключевые слова \n",
    "в формате JSON следующего вида:\n",
    "{{\n",
    "  \"keywors\" : [<ключевые слова>],\n",
    "}}\n",
    "Текст: ```{review}```\"\n",
    "\"\"\"\n",
    "\n",
    "chat_template = ChatPromptTemplate.from_messages(\n",
    "    [\n",
    "        (\"system\", \"Ты редактор сайта со статьями, и твоя извлечь из текста ключевые слова.\"),\n",
    "        (\"human\", instruct),\n",
    "    ]\n",
    ")\n",
    "\n",
    "parser = JsonOutputParser()\n",
    "\n",
    "def process(text):\n",
    "    res = chat.invoke(chat_template.format_messages(review=text))\n",
    "    try:\n",
    "        js = parser.invoke(res)\n",
    "    except:\n",
    "        js = { \"keywors\": \"\" }\n",
    "\n",
    "    return str(js.get(\"keywors\", \"\"))\n",
    "\n",
    "\n",
    "demo = gr.Interface(\n",
    "    fn=process,\n",
    "    inputs=[\"text\"],\n",
    "    outputs=[\"text\"],\n",
    ")\n",
    "\n",
    "demo.launch(server_name=\"localhost\", server_port=8000)"
   ]
  },
  {
   "cell_type": "code",
   "execution_count": null,
   "metadata": {},
   "outputs": [],
   "source": []
  }
 ],
 "metadata": {
  "accelerator": "GPU",
  "colab": {
   "gpuType": "T4",
   "provenance": []
  },
  "kernelspec": {
   "display_name": "Python 3.9 (tf+gpu)",
   "language": "python",
   "name": "python_gpu"
  },
  "language_info": {
   "codemirror_mode": {
    "name": "ipython",
    "version": 3
   },
   "file_extension": ".py",
   "mimetype": "text/x-python",
   "name": "python",
   "nbconvert_exporter": "python",
   "pygments_lexer": "ipython3",
   "version": "3.9.18"
  }
 },
 "nbformat": 4,
 "nbformat_minor": 4
}
